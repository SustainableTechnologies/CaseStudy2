{
 "cells": [
  {
   "cell_type": "markdown",
   "metadata": {},
   "source": [
    "# Residential Heat Pump Case Study 2: Low-Cost Hybrid Heating in a Toronto Home\n",
    "Created: 11/2021  \n",
    "By: Erik Janssen, Analyst   \n",
    "Sustainable Technologies Evaluation Program (STEP)  \n",
    "Toronto and Region Conservation Authority (TRCA)  \n",
    "\n",
    "## 1 Introduction\n",
    "This Jupyter Notebook was used to analyze the changes in utility consumption pre- and post-retrofit for the hybrid heating  system analyzed in the accompanying case study. The basic process of the analysis is:\n",
    "\n",
    "1) Import utility data pre- and post-retrofit.  \n",
    "\n",
    "2) Estimate current utility rates.\n",
    "\n",
    "3) Create a linear regression model of the pre-retrofit data as a function of heating degree days (HDDs). This is a baseline against which post-retrofit utility consumption is compared.  \n",
    "\n",
    "4) Adjust the baseline as required to ensure a fair comparison with actual post-retrofit data.  \n",
    "\n",
    "5) Estimate the fraction of utility savings from hybrid heating specifically if more than one measure was implemented.  \n",
    "\n",
    "6) Ensure that the utility impacts attributed to the hybrid heating system is reasonable by calculating the average COP from the gas savings and electricity increase. Compare the calculated average COP against a temperature-weighted COP calculated from manufacturer data (i.e. an expected COP). The COP calculated from the utility data should be lower than that expected based on the manufacturer data. Note COP was not explicitly monitoried, this is just to ensure that it is reasonable to attribute a certain gas savings to the ASHP based on how much electricity it consumed.\n",
    "\n",
    "7) Calculate other parameters like cost and carbon savings, and perform any other calculations as required.\n",
    "\n",
    "8) Consider utility implications for carbon pricing schedule looking out to 2030.\n",
    "\n",
    "## 2 Libraries"
   ]
  },
  {
   "cell_type": "code",
   "execution_count": 11,
   "metadata": {},
   "outputs": [],
   "source": [
    "# Import libraries\n",
    "import pandas as pd\n",
    "import matplotlib.pyplot as plt\n",
    "from datetime import datetime\n",
    "import numpy as np\n",
    "from scipy import stats\n",
    "from sklearn.linear_model import LinearRegression\n",
    "import datetime"
   ]
  },
  {
   "cell_type": "code",
   "execution_count": 12,
   "metadata": {},
   "outputs": [],
   "source": [
    "# Set some basic parameters for plotting and visualizing data\n",
    "font = {'size'   : 16}\n",
    "plt.rc('font', **font)\n",
    "step_blue = \"#00a3af\"\n",
    "step_gold = \"#f8a81d\"\n",
    "pd.set_option('display.max_columns', None)"
   ]
  },
  {
   "cell_type": "markdown",
   "metadata": {},
   "source": [
    "## 3 Import Baseline and Post-Retrofit Utility Data\n",
    "\n",
    "Gas consumption data post-retrofit was obtained by inspection of utility bills. Enbridge takes actual meter readings on a bimonthly basis (normally). When an actual reading did not take place for a given month, gas consumption is estimated based on previous usage. The gas bill indicates whether or not the meter reading is actual or estimated. Gas consumption was determined using the actual meter readings. These are shown below. Heat pump was installed and comissioned on October 8th/2020. Note that for the actual meter reading on January 1st 2021, the bill the reading only spanned one month of consumption instead of two. This was the same for the reading taken on April 4th, 2021."
   ]
  },
  {
   "cell_type": "code",
   "execution_count": 13,
   "metadata": {},
   "outputs": [
    {
     "data": {
      "text/html": [
       "<div>\n",
       "<style scoped>\n",
       "    .dataframe tbody tr th:only-of-type {\n",
       "        vertical-align: middle;\n",
       "    }\n",
       "\n",
       "    .dataframe tbody tr th {\n",
       "        vertical-align: top;\n",
       "    }\n",
       "\n",
       "    .dataframe thead th {\n",
       "        text-align: right;\n",
       "    }\n",
       "</style>\n",
       "<table border=\"1\" class=\"dataframe\">\n",
       "  <thead>\n",
       "    <tr style=\"text-align: right;\">\n",
       "      <th></th>\n",
       "      <th>Date</th>\n",
       "      <th>Meter Reading</th>\n",
       "    </tr>\n",
       "  </thead>\n",
       "  <tbody>\n",
       "    <tr>\n",
       "      <th>0</th>\n",
       "      <td>2020-10-21</td>\n",
       "      <td>17645</td>\n",
       "    </tr>\n",
       "    <tr>\n",
       "      <th>1</th>\n",
       "      <td>2020-12-19</td>\n",
       "      <td>17718</td>\n",
       "    </tr>\n",
       "    <tr>\n",
       "      <th>2</th>\n",
       "      <td>2021-01-17</td>\n",
       "      <td>17768</td>\n",
       "    </tr>\n",
       "    <tr>\n",
       "      <th>3</th>\n",
       "      <td>2021-03-17</td>\n",
       "      <td>18028</td>\n",
       "    </tr>\n",
       "    <tr>\n",
       "      <th>4</th>\n",
       "      <td>2021-04-20</td>\n",
       "      <td>18054</td>\n",
       "    </tr>\n",
       "    <tr>\n",
       "      <th>5</th>\n",
       "      <td>2021-06-20</td>\n",
       "      <td>18102</td>\n",
       "    </tr>\n",
       "    <tr>\n",
       "      <th>6</th>\n",
       "      <td>2021-08-20</td>\n",
       "      <td>18139</td>\n",
       "    </tr>\n",
       "  </tbody>\n",
       "</table>\n",
       "</div>"
      ],
      "text/plain": [
       "        Date  Meter Reading\n",
       "0 2020-10-21          17645\n",
       "1 2020-12-19          17718\n",
       "2 2021-01-17          17768\n",
       "3 2021-03-17          18028\n",
       "4 2021-04-20          18054\n",
       "5 2021-06-20          18102\n",
       "6 2021-08-20          18139"
      ]
     },
     "execution_count": 13,
     "metadata": {},
     "output_type": "execute_result"
    }
   ],
   "source": [
    "# Import gas meter readings post retrofit\n",
    "pd.read_csv(\"Meter Readings.csv\", parse_dates=['Date'])"
   ]
  },
  {
   "cell_type": "code",
   "execution_count": 14,
   "metadata": {},
   "outputs": [
    {
     "data": {
      "text/html": [
       "<div>\n",
       "<style scoped>\n",
       "    .dataframe tbody tr th:only-of-type {\n",
       "        vertical-align: middle;\n",
       "    }\n",
       "\n",
       "    .dataframe tbody tr th {\n",
       "        vertical-align: top;\n",
       "    }\n",
       "\n",
       "    .dataframe thead th {\n",
       "        text-align: right;\n",
       "    }\n",
       "</style>\n",
       "<table border=\"1\" class=\"dataframe\">\n",
       "  <thead>\n",
       "    <tr style=\"text-align: right;\">\n",
       "      <th></th>\n",
       "      <th>From</th>\n",
       "      <th>To</th>\n",
       "      <th>m3</th>\n",
       "    </tr>\n",
       "  </thead>\n",
       "  <tbody>\n",
       "    <tr>\n",
       "      <th>0</th>\n",
       "      <td>2020-10-21</td>\n",
       "      <td>2020-12-19</td>\n",
       "      <td>73</td>\n",
       "    </tr>\n",
       "    <tr>\n",
       "      <th>1</th>\n",
       "      <td>2020-12-19</td>\n",
       "      <td>2021-01-17</td>\n",
       "      <td>50</td>\n",
       "    </tr>\n",
       "    <tr>\n",
       "      <th>2</th>\n",
       "      <td>2021-01-17</td>\n",
       "      <td>2021-03-17</td>\n",
       "      <td>260</td>\n",
       "    </tr>\n",
       "    <tr>\n",
       "      <th>3</th>\n",
       "      <td>2021-03-17</td>\n",
       "      <td>2021-04-20</td>\n",
       "      <td>26</td>\n",
       "    </tr>\n",
       "    <tr>\n",
       "      <th>4</th>\n",
       "      <td>2021-04-20</td>\n",
       "      <td>2021-06-20</td>\n",
       "      <td>48</td>\n",
       "    </tr>\n",
       "    <tr>\n",
       "      <th>5</th>\n",
       "      <td>2021-06-20</td>\n",
       "      <td>2021-08-20</td>\n",
       "      <td>37</td>\n",
       "    </tr>\n",
       "  </tbody>\n",
       "</table>\n",
       "</div>"
      ],
      "text/plain": [
       "        From         To   m3\n",
       "0 2020-10-21 2020-12-19   73\n",
       "1 2020-12-19 2021-01-17   50\n",
       "2 2021-01-17 2021-03-17  260\n",
       "3 2021-03-17 2021-04-20   26\n",
       "4 2021-04-20 2021-06-20   48\n",
       "5 2021-06-20 2021-08-20   37"
      ]
     },
     "execution_count": 14,
     "metadata": {},
     "output_type": "execute_result"
    }
   ],
   "source": [
    "# Import consumption data based on meter readings\n",
    "gas_post = pd.read_csv(\"gas_data_am.csv\", parse_dates=['To','From'])\n",
    "gas_post"
   ]
  },
  {
   "cell_type": "markdown",
   "metadata": {},
   "source": [
    "The pre-retrofit gas data was obtained from the Enbridge homeowner portal. Data from 2018 to 2019 was used. This is because the data from 2019-2020 included impacts from several behavioural changes that were not sustainable for the homeowner and did not continue into 2020-2021. Note that the distinction between actual/estimated bills does not matter for the pre-retrofit data. The estimates are good indicators of consumption and when they are off, it is corrected for properly in the subsequent bill. The research team observed that post-retrofit, when the estimates are significantly off because of the retrofit, the data downloadable from the Enbridge portal may not be reliable because credits, reversals, or other line items may be omitted. That's why the analysis determined actual post-retrofit gas consumption from the actual meter readings. "
   ]
  },
  {
   "cell_type": "code",
   "execution_count": 15,
   "metadata": {},
   "outputs": [
    {
     "data": {
      "text/html": [
       "<div>\n",
       "<style scoped>\n",
       "    .dataframe tbody tr th:only-of-type {\n",
       "        vertical-align: middle;\n",
       "    }\n",
       "\n",
       "    .dataframe tbody tr th {\n",
       "        vertical-align: top;\n",
       "    }\n",
       "\n",
       "    .dataframe thead th {\n",
       "        text-align: right;\n",
       "    }\n",
       "</style>\n",
       "<table border=\"1\" class=\"dataframe\">\n",
       "  <thead>\n",
       "    <tr style=\"text-align: right;\">\n",
       "      <th></th>\n",
       "      <th>From</th>\n",
       "      <th>To</th>\n",
       "      <th>m3</th>\n",
       "    </tr>\n",
       "  </thead>\n",
       "  <tbody>\n",
       "    <tr>\n",
       "      <th>0</th>\n",
       "      <td>2018-08-22</td>\n",
       "      <td>2018-09-20</td>\n",
       "      <td>48</td>\n",
       "    </tr>\n",
       "    <tr>\n",
       "      <th>1</th>\n",
       "      <td>2018-09-21</td>\n",
       "      <td>2018-10-19</td>\n",
       "      <td>27</td>\n",
       "    </tr>\n",
       "    <tr>\n",
       "      <th>2</th>\n",
       "      <td>2018-10-20</td>\n",
       "      <td>2018-11-20</td>\n",
       "      <td>243</td>\n",
       "    </tr>\n",
       "    <tr>\n",
       "      <th>3</th>\n",
       "      <td>2018-11-21</td>\n",
       "      <td>2018-12-20</td>\n",
       "      <td>228</td>\n",
       "    </tr>\n",
       "    <tr>\n",
       "      <th>4</th>\n",
       "      <td>2018-12-21</td>\n",
       "      <td>2019-01-21</td>\n",
       "      <td>372</td>\n",
       "    </tr>\n",
       "    <tr>\n",
       "      <th>5</th>\n",
       "      <td>2019-01-22</td>\n",
       "      <td>2019-02-21</td>\n",
       "      <td>302</td>\n",
       "    </tr>\n",
       "    <tr>\n",
       "      <th>6</th>\n",
       "      <td>2019-02-22</td>\n",
       "      <td>2019-03-20</td>\n",
       "      <td>302</td>\n",
       "    </tr>\n",
       "    <tr>\n",
       "      <th>7</th>\n",
       "      <td>2019-03-21</td>\n",
       "      <td>2019-04-20</td>\n",
       "      <td>98</td>\n",
       "    </tr>\n",
       "    <tr>\n",
       "      <th>8</th>\n",
       "      <td>2019-04-21</td>\n",
       "      <td>2019-05-21</td>\n",
       "      <td>130</td>\n",
       "    </tr>\n",
       "    <tr>\n",
       "      <th>9</th>\n",
       "      <td>2019-05-22</td>\n",
       "      <td>2019-06-18</td>\n",
       "      <td>44</td>\n",
       "    </tr>\n",
       "    <tr>\n",
       "      <th>10</th>\n",
       "      <td>2019-06-19</td>\n",
       "      <td>2019-07-18</td>\n",
       "      <td>46</td>\n",
       "    </tr>\n",
       "    <tr>\n",
       "      <th>11</th>\n",
       "      <td>2019-07-19</td>\n",
       "      <td>2019-08-20</td>\n",
       "      <td>13</td>\n",
       "    </tr>\n",
       "  </tbody>\n",
       "</table>\n",
       "</div>"
      ],
      "text/plain": [
       "         From         To   m3\n",
       "0  2018-08-22 2018-09-20   48\n",
       "1  2018-09-21 2018-10-19   27\n",
       "2  2018-10-20 2018-11-20  243\n",
       "3  2018-11-21 2018-12-20  228\n",
       "4  2018-12-21 2019-01-21  372\n",
       "5  2019-01-22 2019-02-21  302\n",
       "6  2019-02-22 2019-03-20  302\n",
       "7  2019-03-21 2019-04-20   98\n",
       "8  2019-04-21 2019-05-21  130\n",
       "9  2019-05-22 2019-06-18   44\n",
       "10 2019-06-19 2019-07-18   46\n",
       "11 2019-07-19 2019-08-20   13"
      ]
     },
     "execution_count": 15,
     "metadata": {},
     "output_type": "execute_result"
    }
   ],
   "source": [
    "# Import the pre-retrofit data\n",
    "gas_pre = pd.read_csv(\"pre_gas_data_am.csv\", parse_dates=['To','From'])\n",
    "gas_pre"
   ]
  },
  {
   "cell_type": "markdown",
   "metadata": {},
   "source": [
    "It's not straightforward to directy visulize pre- and post-retrofit gas consumption because pre-retrofit data is monthly and post-retrofit data is mostly bi-monthly. It is still worthwhile to just look at total consumption. But note that is has not been normalized for weather."
   ]
  },
  {
   "cell_type": "code",
   "execution_count": 16,
   "metadata": {},
   "outputs": [
    {
     "data": {
      "text/plain": [
       "1719"
      ]
     },
     "execution_count": 16,
     "metadata": {},
     "output_type": "execute_result"
    }
   ],
   "source": [
    "# Total gas consumption pre-retrofit for for October 20th 2018 to June 18th 2019 \n",
    "total_gas_pre = gas_pre.loc[(gas_pre.index > 1) & (gas_pre.index < 10)].m3.sum()\n",
    "total_gas_pre"
   ]
  },
  {
   "cell_type": "code",
   "execution_count": 17,
   "metadata": {},
   "outputs": [
    {
     "data": {
      "text/plain": [
       "457"
      ]
     },
     "execution_count": 17,
     "metadata": {},
     "output_type": "execute_result"
    }
   ],
   "source": [
    "# Total gas consumption post-retrofit for for October 21st 2020 to June 20th 2021\n",
    "total_gas_post = gas_post.loc[gas_post.index < 5].m3.sum()\n",
    "total_gas_post"
   ]
  },
  {
   "cell_type": "code",
   "execution_count": 18,
   "metadata": {},
   "outputs": [
    {
     "data": {
      "text/plain": [
       "73.41477603257708"
      ]
     },
     "execution_count": 18,
     "metadata": {},
     "output_type": "execute_result"
    }
   ],
   "source": [
    "# Reduction in gas usage (%) - again not yet weather normalized\n",
    "(1-total_gas_post/total_gas_pre)*100"
   ]
  },
  {
   "cell_type": "markdown",
   "metadata": {},
   "source": [
    "Gas consumption for October to June on the total bill was reduced by 73%. Now look at electricity data. It was obtained from the Toronto Hydro online portal."
   ]
  },
  {
   "cell_type": "code",
   "execution_count": 19,
   "metadata": {},
   "outputs": [
    {
     "data": {
      "text/html": [
       "<div>\n",
       "<style scoped>\n",
       "    .dataframe tbody tr th:only-of-type {\n",
       "        vertical-align: middle;\n",
       "    }\n",
       "\n",
       "    .dataframe tbody tr th {\n",
       "        vertical-align: top;\n",
       "    }\n",
       "\n",
       "    .dataframe thead th {\n",
       "        text-align: right;\n",
       "    }\n",
       "</style>\n",
       "<table border=\"1\" class=\"dataframe\">\n",
       "  <thead>\n",
       "    <tr style=\"text-align: right;\">\n",
       "      <th></th>\n",
       "      <th>From</th>\n",
       "      <th>To</th>\n",
       "      <th>kWh</th>\n",
       "      <th>Cost</th>\n",
       "    </tr>\n",
       "  </thead>\n",
       "  <tbody>\n",
       "    <tr>\n",
       "      <th>0</th>\n",
       "      <td>2018-09-01</td>\n",
       "      <td>2018-09-30</td>\n",
       "      <td>823.00</td>\n",
       "      <td>121.20</td>\n",
       "    </tr>\n",
       "    <tr>\n",
       "      <th>1</th>\n",
       "      <td>2018-10-01</td>\n",
       "      <td>2018-10-31</td>\n",
       "      <td>715.00</td>\n",
       "      <td>107.94</td>\n",
       "    </tr>\n",
       "    <tr>\n",
       "      <th>2</th>\n",
       "      <td>2018-11-01</td>\n",
       "      <td>2018-11-30</td>\n",
       "      <td>1128.00</td>\n",
       "      <td>160.00</td>\n",
       "    </tr>\n",
       "    <tr>\n",
       "      <th>3</th>\n",
       "      <td>2018-12-01</td>\n",
       "      <td>2018-12-31</td>\n",
       "      <td>1157.54</td>\n",
       "      <td>122.93</td>\n",
       "    </tr>\n",
       "    <tr>\n",
       "      <th>4</th>\n",
       "      <td>2019-01-01</td>\n",
       "      <td>2019-01-31</td>\n",
       "      <td>994.47</td>\n",
       "      <td>181.38</td>\n",
       "    </tr>\n",
       "    <tr>\n",
       "      <th>5</th>\n",
       "      <td>2019-02-01</td>\n",
       "      <td>2019-02-28</td>\n",
       "      <td>1066.43</td>\n",
       "      <td>143.74</td>\n",
       "    </tr>\n",
       "    <tr>\n",
       "      <th>6</th>\n",
       "      <td>2019-03-01</td>\n",
       "      <td>2019-03-31</td>\n",
       "      <td>852.11</td>\n",
       "      <td>142.86</td>\n",
       "    </tr>\n",
       "    <tr>\n",
       "      <th>7</th>\n",
       "      <td>2019-04-01</td>\n",
       "      <td>2019-04-30</td>\n",
       "      <td>777.22</td>\n",
       "      <td>123.06</td>\n",
       "    </tr>\n",
       "    <tr>\n",
       "      <th>8</th>\n",
       "      <td>2019-05-01</td>\n",
       "      <td>2019-05-31</td>\n",
       "      <td>763.57</td>\n",
       "      <td>145.31</td>\n",
       "    </tr>\n",
       "    <tr>\n",
       "      <th>9</th>\n",
       "      <td>2019-06-01</td>\n",
       "      <td>2019-06-30</td>\n",
       "      <td>969.46</td>\n",
       "      <td>109.76</td>\n",
       "    </tr>\n",
       "    <tr>\n",
       "      <th>10</th>\n",
       "      <td>2019-07-01</td>\n",
       "      <td>2019-07-31</td>\n",
       "      <td>670.39</td>\n",
       "      <td>149.50</td>\n",
       "    </tr>\n",
       "    <tr>\n",
       "      <th>11</th>\n",
       "      <td>2019-08-01</td>\n",
       "      <td>2019-08-31</td>\n",
       "      <td>902.87</td>\n",
       "      <td>119.73</td>\n",
       "    </tr>\n",
       "    <tr>\n",
       "      <th>12</th>\n",
       "      <td>2020-09-01</td>\n",
       "      <td>2020-09-30</td>\n",
       "      <td>645.00</td>\n",
       "      <td>111.56</td>\n",
       "    </tr>\n",
       "    <tr>\n",
       "      <th>13</th>\n",
       "      <td>2020-10-01</td>\n",
       "      <td>2020-10-31</td>\n",
       "      <td>854.00</td>\n",
       "      <td>135.52</td>\n",
       "    </tr>\n",
       "    <tr>\n",
       "      <th>14</th>\n",
       "      <td>2020-11-01</td>\n",
       "      <td>2020-11-30</td>\n",
       "      <td>1105.00</td>\n",
       "      <td>154.68</td>\n",
       "    </tr>\n",
       "    <tr>\n",
       "      <th>15</th>\n",
       "      <td>2020-12-01</td>\n",
       "      <td>2020-12-31</td>\n",
       "      <td>1523.00</td>\n",
       "      <td>208.71</td>\n",
       "    </tr>\n",
       "    <tr>\n",
       "      <th>16</th>\n",
       "      <td>2021-01-01</td>\n",
       "      <td>2021-01-31</td>\n",
       "      <td>1497.00</td>\n",
       "      <td>189.72</td>\n",
       "    </tr>\n",
       "    <tr>\n",
       "      <th>17</th>\n",
       "      <td>2021-02-01</td>\n",
       "      <td>2021-02-28</td>\n",
       "      <td>1234.00</td>\n",
       "      <td>158.23</td>\n",
       "    </tr>\n",
       "    <tr>\n",
       "      <th>18</th>\n",
       "      <td>2021-03-01</td>\n",
       "      <td>2021-03-31</td>\n",
       "      <td>1093.00</td>\n",
       "      <td>156.40</td>\n",
       "    </tr>\n",
       "    <tr>\n",
       "      <th>19</th>\n",
       "      <td>2021-04-01</td>\n",
       "      <td>2021-04-30</td>\n",
       "      <td>1063.00</td>\n",
       "      <td>153.62</td>\n",
       "    </tr>\n",
       "    <tr>\n",
       "      <th>20</th>\n",
       "      <td>2021-05-01</td>\n",
       "      <td>2021-05-31</td>\n",
       "      <td>784.00</td>\n",
       "      <td>126.27</td>\n",
       "    </tr>\n",
       "    <tr>\n",
       "      <th>21</th>\n",
       "      <td>2021-06-01</td>\n",
       "      <td>2021-06-30</td>\n",
       "      <td>730.00</td>\n",
       "      <td>122.02</td>\n",
       "    </tr>\n",
       "    <tr>\n",
       "      <th>22</th>\n",
       "      <td>2021-07-01</td>\n",
       "      <td>2021-07-31</td>\n",
       "      <td>845.00</td>\n",
       "      <td>134.18</td>\n",
       "    </tr>\n",
       "    <tr>\n",
       "      <th>23</th>\n",
       "      <td>2021-08-01</td>\n",
       "      <td>2021-08-31</td>\n",
       "      <td>935.00</td>\n",
       "      <td>144.53</td>\n",
       "    </tr>\n",
       "  </tbody>\n",
       "</table>\n",
       "</div>"
      ],
      "text/plain": [
       "         From         To      kWh    Cost\n",
       "0  2018-09-01 2018-09-30   823.00  121.20\n",
       "1  2018-10-01 2018-10-31   715.00  107.94\n",
       "2  2018-11-01 2018-11-30  1128.00  160.00\n",
       "3  2018-12-01 2018-12-31  1157.54  122.93\n",
       "4  2019-01-01 2019-01-31   994.47  181.38\n",
       "5  2019-02-01 2019-02-28  1066.43  143.74\n",
       "6  2019-03-01 2019-03-31   852.11  142.86\n",
       "7  2019-04-01 2019-04-30   777.22  123.06\n",
       "8  2019-05-01 2019-05-31   763.57  145.31\n",
       "9  2019-06-01 2019-06-30   969.46  109.76\n",
       "10 2019-07-01 2019-07-31   670.39  149.50\n",
       "11 2019-08-01 2019-08-31   902.87  119.73\n",
       "12 2020-09-01 2020-09-30   645.00  111.56\n",
       "13 2020-10-01 2020-10-31   854.00  135.52\n",
       "14 2020-11-01 2020-11-30  1105.00  154.68\n",
       "15 2020-12-01 2020-12-31  1523.00  208.71\n",
       "16 2021-01-01 2021-01-31  1497.00  189.72\n",
       "17 2021-02-01 2021-02-28  1234.00  158.23\n",
       "18 2021-03-01 2021-03-31  1093.00  156.40\n",
       "19 2021-04-01 2021-04-30  1063.00  153.62\n",
       "20 2021-05-01 2021-05-31   784.00  126.27\n",
       "21 2021-06-01 2021-06-30   730.00  122.02\n",
       "22 2021-07-01 2021-07-31   845.00  134.18\n",
       "23 2021-08-01 2021-08-31   935.00  144.53"
      ]
     },
     "execution_count": 19,
     "metadata": {},
     "output_type": "execute_result"
    }
   ],
   "source": [
    "# Import electricity data \n",
    "elec = pd.read_csv(\"elec_data_am.csv\",parse_dates=['From','To'])\n",
    "elec"
   ]
  },
  {
   "cell_type": "code",
   "execution_count": 20,
   "metadata": {},
   "outputs": [
    {
     "name": "stderr",
     "output_type": "stream",
     "text": [
      "C:\\ProgramData\\Anaconda3\\lib\\site-packages\\pandas\\plotting\\_converter.py:129: FutureWarning: Using an implicitly registered datetime converter for a matplotlib plotting method. The converter was registered by pandas on import. Future versions of pandas will require you to explicitly register matplotlib converters.\n",
      "\n",
      "To register the converters:\n",
      "\t>>> from pandas.plotting import register_matplotlib_converters\n",
      "\t>>> register_matplotlib_converters()\n",
      "  warnings.warn(msg, FutureWarning)\n"
     ]
    },
    {
     "data": {
      "image/png": "[encoded data removed]",
      "text/plain": [
       "<Figure size 1080x360 with 1 Axes>"
      ]
     },
     "metadata": {
      "needs_background": "light"
     },
     "output_type": "display_data"
    }
   ],
   "source": [
    "#Visualize\n",
    "plt.figure(figsize=(15,5))\n",
    "plt.bar(elec.From,elec.kWh, width = 10, align = 'center', color = step_blue)\n",
    "plt.ylabel('Electricity Consumption [kWh]')\n",
    "plt.grid(ls='--')"
   ]
  },
  {
   "cell_type": "code",
   "execution_count": 21,
   "metadata": {},
   "outputs": [
    {
     "data": {
      "text/plain": [
       "7708.800000000001"
      ]
     },
     "execution_count": 21,
     "metadata": {},
     "output_type": "execute_result"
    }
   ],
   "source": [
    "# Quickly compare electricity consumption pre- and post- for Nov 1st 2020 to June 30th 2021\n",
    "# Note that the ovelap of the gas and electricity data is off by 10 days\n",
    "# This small relative to the overall 8-month period being evaluated\n",
    "total_elec_pre = elec.loc[(elec.index > 1) & (elec.index < 10)].kWh.sum()\n",
    "total_elec_pre"
   ]
  },
  {
   "cell_type": "code",
   "execution_count": 22,
   "metadata": {},
   "outputs": [
    {
     "data": {
      "text/plain": [
       "9029.0"
      ]
     },
     "execution_count": 22,
     "metadata": {},
     "output_type": "execute_result"
    }
   ],
   "source": [
    "total_elec_post = elec.loc[(elec.index > 13) & (elec.index < 22)].kWh.sum()\n",
    "total_elec_post"
   ]
  },
  {
   "cell_type": "code",
   "execution_count": 23,
   "metadata": {},
   "outputs": [
    {
     "data": {
      "text/plain": [
       "17.125882108758805"
      ]
     },
     "execution_count": 23,
     "metadata": {},
     "output_type": "execute_result"
    }
   ],
   "source": [
    "# Increase in electricitt usage (%)\n",
    "(total_elec_post/total_elec_pre-1)*100"
   ]
  },
  {
   "cell_type": "markdown",
   "metadata": {},
   "source": [
    "Initial inspection of gas reduction is substantial, but note that the data still needs to be corrected for weather. Similarly, the electrical increase must also be corrected for a reduction in electric vehicle usage due to COVID-19."
   ]
  },
  {
   "cell_type": "markdown",
   "metadata": {},
   "source": [
    "## 4 Import Heating and Cooling Degree Day Data\n",
    "It is helpful to have a look at weather normalized utility data. We can normalize using HDDs. Weather data for toronto has been gathered from weatherstats.ca which is essentially just a way of accessing Environment Canada data."
   ]
  },
  {
   "cell_type": "code",
   "execution_count": 24,
   "metadata": {},
   "outputs": [
    {
     "data": {
      "text/html": [
       "<div>\n",
       "<style scoped>\n",
       "    .dataframe tbody tr th:only-of-type {\n",
       "        vertical-align: middle;\n",
       "    }\n",
       "\n",
       "    .dataframe tbody tr th {\n",
       "        vertical-align: top;\n",
       "    }\n",
       "\n",
       "    .dataframe thead th {\n",
       "        text-align: right;\n",
       "    }\n",
       "</style>\n",
       "<table border=\"1\" class=\"dataframe\">\n",
       "  <thead>\n",
       "    <tr style=\"text-align: right;\">\n",
       "      <th></th>\n",
       "      <th>temperature</th>\n",
       "      <th>HDDs</th>\n",
       "    </tr>\n",
       "    <tr>\n",
       "      <th>date_time_local</th>\n",
       "      <th></th>\n",
       "      <th></th>\n",
       "    </tr>\n",
       "  </thead>\n",
       "  <tbody>\n",
       "    <tr>\n",
       "      <th>2021-07-02 08:00:00</th>\n",
       "      <td>18.0</td>\n",
       "      <td>0.0</td>\n",
       "    </tr>\n",
       "    <tr>\n",
       "      <th>2021-07-02 07:00:00</th>\n",
       "      <td>16.8</td>\n",
       "      <td>0.0</td>\n",
       "    </tr>\n",
       "    <tr>\n",
       "      <th>2021-07-02 06:00:00</th>\n",
       "      <td>16.4</td>\n",
       "      <td>0.0</td>\n",
       "    </tr>\n",
       "    <tr>\n",
       "      <th>2021-07-02 05:00:00</th>\n",
       "      <td>16.4</td>\n",
       "      <td>0.0</td>\n",
       "    </tr>\n",
       "    <tr>\n",
       "      <th>2021-07-02 04:00:00</th>\n",
       "      <td>16.3</td>\n",
       "      <td>0.0</td>\n",
       "    </tr>\n",
       "  </tbody>\n",
       "</table>\n",
       "</div>"
      ],
      "text/plain": [
       "                     temperature  HDDs\n",
       "date_time_local                       \n",
       "2021-07-02 08:00:00         18.0   0.0\n",
       "2021-07-02 07:00:00         16.8   0.0\n",
       "2021-07-02 06:00:00         16.4   0.0\n",
       "2021-07-02 05:00:00         16.4   0.0\n",
       "2021-07-02 04:00:00         16.3   0.0"
      ]
     },
     "execution_count": 24,
     "metadata": {},
     "output_type": "execute_result"
    }
   ],
   "source": [
    "# Import hourly weather data file for Toronto and calculate HDDs\n",
    "# Assumed building balance point of 14 oC because this agreed best with the consumption data\n",
    "toronto_weather = pd.read_csv(\"weatherstats_toronto_hourly.csv\",parse_dates=True, infer_datetime_format=True)\n",
    "toronto_weather.date_time_local = [datetime.datetime.strptime(x,'%m/%d/%Y %H:%M') for x in toronto_weather.date_time_local]\n",
    "toronto_weather = toronto_weather[['date_time_local','temperature']]\n",
    "toronto_weather['HDDs'] = [(14 - x)*(1/24) if (x < 14) else 0 for x in toronto_weather.temperature] \n",
    "toronto_weather.index = toronto_weather.date_time_local\n",
    "del toronto_weather['date_time_local']\n",
    "toronto_weather.head()"
   ]
  },
  {
   "cell_type": "markdown",
   "metadata": {},
   "source": [
    "## 5 Utility Rates and Emission Factors\n",
    "### 5.1 Natural Gas Rate\n",
    "The marginal cost of natural gas was estimated using the Ontatio Energy Board (OEB) bill calculator, available at: https://www.oeb.ca/rates-and-your-bill/bill-calculator. Two sample bills were calculated in November 2021 for an Enbridge service area, one for 100 m3 consumption and one for 200 m3. These are shown below. \n",
    "\n",
    "![GasBills3.png](GasBills3.png)\n",
    "\n",
    "The difference in cost between the two bills is 39.3 dollars - for a difference in consumption of 100 m$^{3}$. It follows that the marginal rate for gas was estimated at 0.393 dollars per m3. At the end of 2020 the Federal Government announced a new cabron pricing schedule in their plan titled \"A Healthy Environment and A Healthy Economy.\" Starting in 2023, the federal price on carbon will increase at 15 dollars per tonne annually to reach 170 dollars by 2030. It will close to double the current rate by 2030. This has significant implications for hybrid system and it evaluated at the end of this notebook.\n"
   ]
  },
  {
   "cell_type": "code",
   "execution_count": 25,
   "metadata": {},
   "outputs": [],
   "source": [
    "# Define gas rate\n",
    "gas_rate = 0.393 # $/m3"
   ]
  },
  {
   "cell_type": "markdown",
   "metadata": {},
   "source": [
    "### 5.2 Electricity Rate \n",
    "The current marginal electricity rates were also calculated using the OEB bill calculator. Six bills were calculated in total. Each bill assumed that electricity was consumed entirely in only one time-of-use (TOU) bracket. For each TOU bracket a 500 kWh and a 600 kWh was calculated. The difference between the two bills was used to calculated the marginal electricity rate for the TOU. This kind of approach was necessary to properly capture all marginal costs, and is helpful because it is straightforward and electricity pricing structures can be complex with mutiple line items. Bills were calculated in November 2021.\n",
    "\n",
    "The results for peak electricity are shown below - with 500 kWh bill on the left an 600 kWh on the right. The difference between the two bills is dollars 18.8, leading to marginal peak electricity cost estimate of 0.188 dollars per kWh.\n",
    "![peak_elec.png](peak_elec.png)"
   ]
  },
  {
   "cell_type": "markdown",
   "metadata": {},
   "source": [
    "The results for mid-peak electricity are shown below - with 500 kWh bill on the left an 600 kWh on the right. The difference between the two bills is 13.2 dollars, leading to marginal peak electricity cost estimate of 0.131 dollars per kWh.\n",
    "![mid_elec.png](mid_elec.png)"
   ]
  },
  {
   "cell_type": "markdown",
   "metadata": {},
   "source": [
    "The results for off-peak electricity are shown below - with 500 kWh bill on the left an 600 kWh on the right. The difference between the two bills is 10.1 dollars, leading to marginal peak electricity cost estimate of  0.101 $\\$$/kWh.\n",
    "![off_elec.png](off_elec.png)"
   ]
  },
  {
   "cell_type": "markdown",
   "metadata": {},
   "source": [
    "Previous analysis (https://sustainabletechnologies.ca/app/uploads/2021/05/DualFuelAnalysis052021.pdf) estimated that 66% of the heating load occurs in an off-peak TOU and the remained is roughly split between mid-peak and on-peak. For simplicity, the analysis looked at the impacts on total electricity consumption only - with the total rate weighted to the percentages above."
   ]
  },
  {
   "cell_type": "code",
   "execution_count": 26,
   "metadata": {},
   "outputs": [
    {
     "name": "stdout",
     "output_type": "stream",
     "text": [
      "The gas rate is 0.393 dollars per cubic meter.\n",
      "The electricity rate for the heat pump is 0.119 dollars per kWh.\n"
     ]
    }
   ],
   "source": [
    "# Define elec rates\n",
    "elec_rate = 0.66*0.101 + 0.132*(0.33/2) + 0.188*(0.33/2)\n",
    "\n",
    "print(\"The gas rate is \" + str(gas_rate) + ' dollars per cubic meter.')\n",
    "print(\"The electricity rate for the heat pump is \" + str(elec_rate)[:5] + ' dollars per kWh.')"
   ]
  },
  {
   "cell_type": "markdown",
   "metadata": {},
   "source": [
    "The emission factor for electricity was estimated at 0.030 kg equivalent CO2 per kWh. The emission factor for natural gas combustion was assumed at 1.89 kg equivalent CO2 per cubic metre. Values are from the 2021 Canadian National Inventory Report."
   ]
  },
  {
   "cell_type": "code",
   "execution_count": 27,
   "metadata": {},
   "outputs": [],
   "source": [
    "# Define emission factor assumptions\n",
    "EF_elec = 0.030 # kg CO2e per kWh assuming an annual emission factor of 0.030 according to 2021 NIR report\n",
    "EF_gas = 1.89 # in units kg CO2e per m3"
   ]
  },
  {
   "cell_type": "markdown",
   "metadata": {},
   "source": [
    "## 6 Calculate HDDs and Define Regression Models of Utility Consumption\n",
    "We can now add heating degree-days (HDDs) to the utility consumption dataframes. HDDs are needed to account for differences in weather between the pre- and post-retrofit period. These differences are accounted for by creating a linear regression model of utility consumption pre-retrofit, that plots consumption as a function of HDDs. That model can then be applied to the post-retrofit HDD data and compared against the actual post-retrofit consumption."
   ]
  },
  {
   "cell_type": "markdown",
   "metadata": {},
   "source": [
    "## 6.1 Gas Consumption"
   ]
  },
  {
   "cell_type": "code",
   "execution_count": 28,
   "metadata": {},
   "outputs": [],
   "source": [
    "# Function that determines total HDDs in a given window of time\n",
    "def HDD_total(start_date,end_date):\n",
    "    temp_df = toronto_weather.loc[(toronto_weather.index>start_date)&(toronto_weather.index<end_date)]\n",
    "    total_HDDs = temp_df.HDDs.sum()\n",
    "    return {'HDDs':total_HDDs}"
   ]
  },
  {
   "cell_type": "code",
   "execution_count": 29,
   "metadata": {},
   "outputs": [
    {
     "data": {
      "text/html": [
       "<div>\n",
       "<style scoped>\n",
       "    .dataframe tbody tr th:only-of-type {\n",
       "        vertical-align: middle;\n",
       "    }\n",
       "\n",
       "    .dataframe tbody tr th {\n",
       "        vertical-align: top;\n",
       "    }\n",
       "\n",
       "    .dataframe thead th {\n",
       "        text-align: right;\n",
       "    }\n",
       "</style>\n",
       "<table border=\"1\" class=\"dataframe\">\n",
       "  <thead>\n",
       "    <tr style=\"text-align: right;\">\n",
       "      <th></th>\n",
       "      <th>From</th>\n",
       "      <th>To</th>\n",
       "      <th>m3</th>\n",
       "      <th>HDDs</th>\n",
       "    </tr>\n",
       "  </thead>\n",
       "  <tbody>\n",
       "    <tr>\n",
       "      <th>0</th>\n",
       "      <td>2018-08-22</td>\n",
       "      <td>2018-09-20</td>\n",
       "      <td>48</td>\n",
       "      <td>1.891667</td>\n",
       "    </tr>\n",
       "    <tr>\n",
       "      <th>1</th>\n",
       "      <td>2018-09-21</td>\n",
       "      <td>2018-10-19</td>\n",
       "      <td>27</td>\n",
       "      <td>80.729167</td>\n",
       "    </tr>\n",
       "    <tr>\n",
       "      <th>2</th>\n",
       "      <td>2018-10-20</td>\n",
       "      <td>2018-11-20</td>\n",
       "      <td>243</td>\n",
       "      <td>316.862500</td>\n",
       "    </tr>\n",
       "    <tr>\n",
       "      <th>3</th>\n",
       "      <td>2018-11-21</td>\n",
       "      <td>2018-12-20</td>\n",
       "      <td>228</td>\n",
       "      <td>406.637500</td>\n",
       "    </tr>\n",
       "    <tr>\n",
       "      <th>4</th>\n",
       "      <td>2018-12-21</td>\n",
       "      <td>2019-01-21</td>\n",
       "      <td>372</td>\n",
       "      <td>522.316667</td>\n",
       "    </tr>\n",
       "    <tr>\n",
       "      <th>5</th>\n",
       "      <td>2019-01-22</td>\n",
       "      <td>2019-02-21</td>\n",
       "      <td>302</td>\n",
       "      <td>592.379167</td>\n",
       "    </tr>\n",
       "    <tr>\n",
       "      <th>6</th>\n",
       "      <td>2019-02-22</td>\n",
       "      <td>2019-03-20</td>\n",
       "      <td>302</td>\n",
       "      <td>455.900000</td>\n",
       "    </tr>\n",
       "    <tr>\n",
       "      <th>7</th>\n",
       "      <td>2019-03-21</td>\n",
       "      <td>2019-04-20</td>\n",
       "      <td>98</td>\n",
       "      <td>290.358333</td>\n",
       "    </tr>\n",
       "    <tr>\n",
       "      <th>8</th>\n",
       "      <td>2019-04-21</td>\n",
       "      <td>2019-05-21</td>\n",
       "      <td>130</td>\n",
       "      <td>148.000000</td>\n",
       "    </tr>\n",
       "    <tr>\n",
       "      <th>9</th>\n",
       "      <td>2019-05-22</td>\n",
       "      <td>2019-06-18</td>\n",
       "      <td>44</td>\n",
       "      <td>20.887500</td>\n",
       "    </tr>\n",
       "    <tr>\n",
       "      <th>10</th>\n",
       "      <td>2019-06-19</td>\n",
       "      <td>2019-07-18</td>\n",
       "      <td>46</td>\n",
       "      <td>0.091667</td>\n",
       "    </tr>\n",
       "    <tr>\n",
       "      <th>11</th>\n",
       "      <td>2019-07-19</td>\n",
       "      <td>2019-08-20</td>\n",
       "      <td>13</td>\n",
       "      <td>0.000000</td>\n",
       "    </tr>\n",
       "  </tbody>\n",
       "</table>\n",
       "</div>"
      ],
      "text/plain": [
       "         From         To   m3        HDDs\n",
       "0  2018-08-22 2018-09-20   48    1.891667\n",
       "1  2018-09-21 2018-10-19   27   80.729167\n",
       "2  2018-10-20 2018-11-20  243  316.862500\n",
       "3  2018-11-21 2018-12-20  228  406.637500\n",
       "4  2018-12-21 2019-01-21  372  522.316667\n",
       "5  2019-01-22 2019-02-21  302  592.379167\n",
       "6  2019-02-22 2019-03-20  302  455.900000\n",
       "7  2019-03-21 2019-04-20   98  290.358333\n",
       "8  2019-04-21 2019-05-21  130  148.000000\n",
       "9  2019-05-22 2019-06-18   44   20.887500\n",
       "10 2019-06-19 2019-07-18   46    0.091667\n",
       "11 2019-07-19 2019-08-20   13    0.000000"
      ]
     },
     "execution_count": 29,
     "metadata": {},
     "output_type": "execute_result"
    }
   ],
   "source": [
    "# Add HDDs to pre-retrofit gas dataframe\n",
    "gas_pre['HDDs'] = [HDD_total(x,y)['HDDs'] for x,y in zip(gas_pre.From,gas_pre.To)]\n",
    "gas_pre"
   ]
  },
  {
   "cell_type": "code",
   "execution_count": 30,
   "metadata": {},
   "outputs": [
    {
     "data": {
      "text/html": [
       "<div>\n",
       "<style scoped>\n",
       "    .dataframe tbody tr th:only-of-type {\n",
       "        vertical-align: middle;\n",
       "    }\n",
       "\n",
       "    .dataframe tbody tr th {\n",
       "        vertical-align: top;\n",
       "    }\n",
       "\n",
       "    .dataframe thead th {\n",
       "        text-align: right;\n",
       "    }\n",
       "</style>\n",
       "<table border=\"1\" class=\"dataframe\">\n",
       "  <thead>\n",
       "    <tr style=\"text-align: right;\">\n",
       "      <th></th>\n",
       "      <th>From</th>\n",
       "      <th>To</th>\n",
       "      <th>m3</th>\n",
       "      <th>HDDs</th>\n",
       "    </tr>\n",
       "  </thead>\n",
       "  <tbody>\n",
       "    <tr>\n",
       "      <th>0</th>\n",
       "      <td>2020-10-21</td>\n",
       "      <td>2020-12-19</td>\n",
       "      <td>73</td>\n",
       "      <td>572.937500</td>\n",
       "    </tr>\n",
       "    <tr>\n",
       "      <th>1</th>\n",
       "      <td>2020-12-19</td>\n",
       "      <td>2021-01-17</td>\n",
       "      <td>50</td>\n",
       "      <td>409.191667</td>\n",
       "    </tr>\n",
       "    <tr>\n",
       "      <th>2</th>\n",
       "      <td>2021-01-17</td>\n",
       "      <td>2021-03-17</td>\n",
       "      <td>260</td>\n",
       "      <td>1034.358333</td>\n",
       "    </tr>\n",
       "    <tr>\n",
       "      <th>3</th>\n",
       "      <td>2021-03-17</td>\n",
       "      <td>2021-04-20</td>\n",
       "      <td>26</td>\n",
       "      <td>221.920833</td>\n",
       "    </tr>\n",
       "    <tr>\n",
       "      <th>4</th>\n",
       "      <td>2021-04-20</td>\n",
       "      <td>2021-06-20</td>\n",
       "      <td>48</td>\n",
       "      <td>170.295833</td>\n",
       "    </tr>\n",
       "    <tr>\n",
       "      <th>5</th>\n",
       "      <td>2021-06-20</td>\n",
       "      <td>2021-08-20</td>\n",
       "      <td>37</td>\n",
       "      <td>2.104167</td>\n",
       "    </tr>\n",
       "  </tbody>\n",
       "</table>\n",
       "</div>"
      ],
      "text/plain": [
       "        From         To   m3         HDDs\n",
       "0 2020-10-21 2020-12-19   73   572.937500\n",
       "1 2020-12-19 2021-01-17   50   409.191667\n",
       "2 2021-01-17 2021-03-17  260  1034.358333\n",
       "3 2021-03-17 2021-04-20   26   221.920833\n",
       "4 2021-04-20 2021-06-20   48   170.295833\n",
       "5 2021-06-20 2021-08-20   37     2.104167"
      ]
     },
     "execution_count": 30,
     "metadata": {},
     "output_type": "execute_result"
    }
   ],
   "source": [
    "# Add HDDs to post-retrofit gas dataframe\n",
    "gas_post['HDDs'] = [HDD_total(x,y)['HDDs'] for x,y in zip(gas_post.From,gas_post.To)]\n",
    "gas_post"
   ]
  },
  {
   "cell_type": "markdown",
   "metadata": {},
   "source": [
    "We can now visualize pre- and post-retrofit gas consumption. Note that the comparison is still not completely fair though because the baseline gas consumption (from DHW) is greater for 2-month data intervals (i.e. post-retrofit) than it would be for 1-month intervals (pre-retrofit)."
   ]
  },
  {
   "cell_type": "code",
   "execution_count": 31,
   "metadata": {},
   "outputs": [
    {
     "data": {
      "text/plain": [
       "Text(0.5, 0, 'HDDs')"
      ]
     },
     "execution_count": 31,
     "metadata": {},
     "output_type": "execute_result"
    },
    {
     "data": {
      "image/png": "[encoded data removed]",
      "text/plain": [
       "<Figure size 504x360 with 1 Axes>"
      ]
     },
     "metadata": {
      "needs_background": "light"
     },
     "output_type": "display_data"
    }
   ],
   "source": [
    "# Visualize it\n",
    "plt.figure(figsize=(7,5))\n",
    "plt.scatter(gas_pre.HDDs,gas_pre.m3, label = 'Pre-retrofit', color = step_blue)\n",
    "plt.grid(ls='--')\n",
    "plt.ylabel('Gas Consumption [m$^{3}$]')\n",
    "plt.scatter(gas_post.HDDs,gas_post.m3, label = 'Post-retrofit', color = step_gold)\n",
    "plt.legend(loc = 2)\n",
    "plt.xlabel('HDDs')"
   ]
  },
  {
   "cell_type": "markdown",
   "metadata": {},
   "source": [
    "We now need to make a linear regression model of pre-retrofit gas consumption to use it as a baseline. We actually need two models. One model for a 1-month interval, and one for a 2-month interval. This is because the post-retrofit data has both 1- and 2-month intervals. The slope of the models is the same. The difference would be in the intercept (which is the gas consumption from DHW). "
   ]
  },
  {
   "cell_type": "code",
   "execution_count": 32,
   "metadata": {},
   "outputs": [
    {
     "name": "stdout",
     "output_type": "stream",
     "text": [
      "coefficient of determination: 0.8888692945239751\n",
      "intercept: 25.996549052346865\n",
      "slope: [0.54337517]\n"
     ]
    }
   ],
   "source": [
    "# Calculate regression line for pre-retrofit data to create a baseline model\n",
    "x = np.array(gas_pre.HDDs).reshape((-1, 1))\n",
    "y = np.array(gas_pre.m3)\n",
    "pre_model_gas = LinearRegression()\n",
    "pre_model_gas.fit(x, y)\n",
    "pre_model_gas_r_sq = pre_model_gas.score(x, y)\n",
    "print('coefficient of determination:', pre_model_gas_r_sq)\n",
    "print('intercept:', pre_model_gas.intercept_)\n",
    "print('slope:', pre_model_gas.coef_)"
   ]
  },
  {
   "cell_type": "code",
   "execution_count": 33,
   "metadata": {},
   "outputs": [],
   "source": [
    "# Define monthly model pre-retrofit for gas\n",
    "def pre_model_gas_month(HDD):\n",
    "    m3 = pre_model_gas.coef_[0]*HDD + pre_model_gas.intercept_\n",
    "    return m3"
   ]
  },
  {
   "cell_type": "code",
   "execution_count": 34,
   "metadata": {},
   "outputs": [
    {
     "data": {
      "text/html": [
       "<div>\n",
       "<style scoped>\n",
       "    .dataframe tbody tr th:only-of-type {\n",
       "        vertical-align: middle;\n",
       "    }\n",
       "\n",
       "    .dataframe tbody tr th {\n",
       "        vertical-align: top;\n",
       "    }\n",
       "\n",
       "    .dataframe thead th {\n",
       "        text-align: right;\n",
       "    }\n",
       "</style>\n",
       "<table border=\"1\" class=\"dataframe\">\n",
       "  <thead>\n",
       "    <tr style=\"text-align: right;\">\n",
       "      <th></th>\n",
       "      <th>From</th>\n",
       "      <th>To</th>\n",
       "      <th>m3</th>\n",
       "      <th>HDDs</th>\n",
       "      <th>Modelled</th>\n",
       "    </tr>\n",
       "  </thead>\n",
       "  <tbody>\n",
       "    <tr>\n",
       "      <th>0</th>\n",
       "      <td>2018-08-22</td>\n",
       "      <td>2018-09-20</td>\n",
       "      <td>48</td>\n",
       "      <td>1.891667</td>\n",
       "      <td>27.024434</td>\n",
       "    </tr>\n",
       "    <tr>\n",
       "      <th>1</th>\n",
       "      <td>2018-09-21</td>\n",
       "      <td>2018-10-19</td>\n",
       "      <td>27</td>\n",
       "      <td>80.729167</td>\n",
       "      <td>69.862774</td>\n",
       "    </tr>\n",
       "    <tr>\n",
       "      <th>2</th>\n",
       "      <td>2018-10-20</td>\n",
       "      <td>2018-11-20</td>\n",
       "      <td>243</td>\n",
       "      <td>316.862500</td>\n",
       "      <td>198.171763</td>\n",
       "    </tr>\n",
       "    <tr>\n",
       "      <th>3</th>\n",
       "      <td>2018-11-21</td>\n",
       "      <td>2018-12-20</td>\n",
       "      <td>228</td>\n",
       "      <td>406.637500</td>\n",
       "      <td>246.953269</td>\n",
       "    </tr>\n",
       "    <tr>\n",
       "      <th>4</th>\n",
       "      <td>2018-12-21</td>\n",
       "      <td>2019-01-21</td>\n",
       "      <td>372</td>\n",
       "      <td>522.316667</td>\n",
       "      <td>309.810456</td>\n",
       "    </tr>\n",
       "    <tr>\n",
       "      <th>5</th>\n",
       "      <td>2019-01-22</td>\n",
       "      <td>2019-02-21</td>\n",
       "      <td>302</td>\n",
       "      <td>592.379167</td>\n",
       "      <td>347.880679</td>\n",
       "    </tr>\n",
       "    <tr>\n",
       "      <th>6</th>\n",
       "      <td>2019-02-22</td>\n",
       "      <td>2019-03-20</td>\n",
       "      <td>302</td>\n",
       "      <td>455.900000</td>\n",
       "      <td>273.721288</td>\n",
       "    </tr>\n",
       "    <tr>\n",
       "      <th>7</th>\n",
       "      <td>2019-03-21</td>\n",
       "      <td>2019-04-20</td>\n",
       "      <td>98</td>\n",
       "      <td>290.358333</td>\n",
       "      <td>183.770057</td>\n",
       "    </tr>\n",
       "    <tr>\n",
       "      <th>8</th>\n",
       "      <td>2019-04-21</td>\n",
       "      <td>2019-05-21</td>\n",
       "      <td>130</td>\n",
       "      <td>148.000000</td>\n",
       "      <td>106.416074</td>\n",
       "    </tr>\n",
       "    <tr>\n",
       "      <th>9</th>\n",
       "      <td>2019-05-22</td>\n",
       "      <td>2019-06-18</td>\n",
       "      <td>44</td>\n",
       "      <td>20.887500</td>\n",
       "      <td>37.346298</td>\n",
       "    </tr>\n",
       "    <tr>\n",
       "      <th>10</th>\n",
       "      <td>2019-06-19</td>\n",
       "      <td>2019-07-18</td>\n",
       "      <td>46</td>\n",
       "      <td>0.091667</td>\n",
       "      <td>26.046358</td>\n",
       "    </tr>\n",
       "    <tr>\n",
       "      <th>11</th>\n",
       "      <td>2019-07-19</td>\n",
       "      <td>2019-08-20</td>\n",
       "      <td>13</td>\n",
       "      <td>0.000000</td>\n",
       "      <td>25.996549</td>\n",
       "    </tr>\n",
       "  </tbody>\n",
       "</table>\n",
       "</div>"
      ],
      "text/plain": [
       "         From         To   m3        HDDs    Modelled\n",
       "0  2018-08-22 2018-09-20   48    1.891667   27.024434\n",
       "1  2018-09-21 2018-10-19   27   80.729167   69.862774\n",
       "2  2018-10-20 2018-11-20  243  316.862500  198.171763\n",
       "3  2018-11-21 2018-12-20  228  406.637500  246.953269\n",
       "4  2018-12-21 2019-01-21  372  522.316667  309.810456\n",
       "5  2019-01-22 2019-02-21  302  592.379167  347.880679\n",
       "6  2019-02-22 2019-03-20  302  455.900000  273.721288\n",
       "7  2019-03-21 2019-04-20   98  290.358333  183.770057\n",
       "8  2019-04-21 2019-05-21  130  148.000000  106.416074\n",
       "9  2019-05-22 2019-06-18   44   20.887500   37.346298\n",
       "10 2019-06-19 2019-07-18   46    0.091667   26.046358\n",
       "11 2019-07-19 2019-08-20   13    0.000000   25.996549"
      ]
     },
     "execution_count": 34,
     "metadata": {},
     "output_type": "execute_result"
    }
   ],
   "source": [
    "# Add to dataframe\n",
    "gas_pre['Modelled'] = [pre_model_gas_month(x) for x in gas_pre.HDDs]\n",
    "gas_pre"
   ]
  },
  {
   "cell_type": "code",
   "execution_count": 35,
   "metadata": {},
   "outputs": [
    {
     "data": {
      "text/plain": [
       "Text(0.5, 0, 'HDDs')"
      ]
     },
     "execution_count": 35,
     "metadata": {},
     "output_type": "execute_result"
    },
    {
     "data": {
      "image/png": "[encoded data removed]",
      "text/plain": [
       "<Figure size 504x360 with 1 Axes>"
      ]
     },
     "metadata": {
      "needs_background": "light"
     },
     "output_type": "display_data"
    }
   ],
   "source": [
    "# Visualize it\n",
    "plt.figure(figsize=(7,5))\n",
    "plt.scatter(gas_pre.HDDs,gas_pre.m3, color = step_blue)\n",
    "plt.plot(gas_pre.HDDs,gas_pre.Modelled, color = step_blue)\n",
    "plt.grid(ls='--')\n",
    "plt.ylabel('Monthly Gas Consumption [m$^{3}$]')\n",
    "plt.xlabel('HDDs')"
   ]
  },
  {
   "cell_type": "code",
   "execution_count": 36,
   "metadata": {},
   "outputs": [],
   "source": [
    "# Define bimonthly model pre-retrofit for gas\n",
    "def pre_model_gas_2month(HDD):\n",
    "    m3 = pre_model_gas.coef_[0]*HDD + 2*pre_model_gas.intercept_\n",
    "    return m3"
   ]
  },
  {
   "cell_type": "code",
   "execution_count": 37,
   "metadata": {},
   "outputs": [
    {
     "data": {
      "text/html": [
       "<div>\n",
       "<style scoped>\n",
       "    .dataframe tbody tr th:only-of-type {\n",
       "        vertical-align: middle;\n",
       "    }\n",
       "\n",
       "    .dataframe tbody tr th {\n",
       "        vertical-align: top;\n",
       "    }\n",
       "\n",
       "    .dataframe thead th {\n",
       "        text-align: right;\n",
       "    }\n",
       "</style>\n",
       "<table border=\"1\" class=\"dataframe\">\n",
       "  <thead>\n",
       "    <tr style=\"text-align: right;\">\n",
       "      <th></th>\n",
       "      <th>From</th>\n",
       "      <th>To</th>\n",
       "      <th>m3</th>\n",
       "      <th>HDDs</th>\n",
       "      <th>Baseline_m3</th>\n",
       "    </tr>\n",
       "  </thead>\n",
       "  <tbody>\n",
       "    <tr>\n",
       "      <th>0</th>\n",
       "      <td>2020-10-21</td>\n",
       "      <td>2020-12-19</td>\n",
       "      <td>73</td>\n",
       "      <td>572.937500</td>\n",
       "      <td>363.313109</td>\n",
       "    </tr>\n",
       "    <tr>\n",
       "      <th>1</th>\n",
       "      <td>2020-12-19</td>\n",
       "      <td>2021-01-17</td>\n",
       "      <td>50</td>\n",
       "      <td>409.191667</td>\n",
       "      <td>248.341140</td>\n",
       "    </tr>\n",
       "    <tr>\n",
       "      <th>2</th>\n",
       "      <td>2021-01-17</td>\n",
       "      <td>2021-03-17</td>\n",
       "      <td>260</td>\n",
       "      <td>1034.358333</td>\n",
       "      <td>614.037732</td>\n",
       "    </tr>\n",
       "    <tr>\n",
       "      <th>3</th>\n",
       "      <td>2021-03-17</td>\n",
       "      <td>2021-04-20</td>\n",
       "      <td>26</td>\n",
       "      <td>221.920833</td>\n",
       "      <td>146.582819</td>\n",
       "    </tr>\n",
       "    <tr>\n",
       "      <th>4</th>\n",
       "      <td>2021-04-20</td>\n",
       "      <td>2021-06-20</td>\n",
       "      <td>48</td>\n",
       "      <td>170.295833</td>\n",
       "      <td>144.527625</td>\n",
       "    </tr>\n",
       "    <tr>\n",
       "      <th>5</th>\n",
       "      <td>2021-06-20</td>\n",
       "      <td>2021-08-20</td>\n",
       "      <td>37</td>\n",
       "      <td>2.104167</td>\n",
       "      <td>53.136450</td>\n",
       "    </tr>\n",
       "  </tbody>\n",
       "</table>\n",
       "</div>"
      ],
      "text/plain": [
       "        From         To   m3         HDDs  Baseline_m3\n",
       "0 2020-10-21 2020-12-19   73   572.937500   363.313109\n",
       "1 2020-12-19 2021-01-17   50   409.191667   248.341140\n",
       "2 2021-01-17 2021-03-17  260  1034.358333   614.037732\n",
       "3 2021-03-17 2021-04-20   26   221.920833   146.582819\n",
       "4 2021-04-20 2021-06-20   48   170.295833   144.527625\n",
       "5 2021-06-20 2021-08-20   37     2.104167    53.136450"
      ]
     },
     "execution_count": 37,
     "metadata": {},
     "output_type": "execute_result"
    }
   ],
   "source": [
    "# Use models to estimate baseline gas consumption for post-retrofit data\n",
    "gas_post['Baseline_m3'] = [pre_model_gas_month(x) if (y == 1)|(y == 3) else pre_model_gas_2month(x) for x,y in zip(gas_post.HDDs, gas_post.index)]\n",
    "gas_post"
   ]
  },
  {
   "cell_type": "code",
   "execution_count": 38,
   "metadata": {},
   "outputs": [
    {
     "data": {
      "text/plain": [
       "457"
      ]
     },
     "execution_count": 38,
     "metadata": {},
     "output_type": "execute_result"
    }
   ],
   "source": [
    "# Total gas consumption post-retrofit\n",
    "tot_gas_post = gas_post.loc[gas_post.index < 5].m3.sum()\n",
    "tot_gas_post"
   ]
  },
  {
   "cell_type": "code",
   "execution_count": 39,
   "metadata": {},
   "outputs": [
    {
     "data": {
      "text/plain": [
       "1516.8024254290376"
      ]
     },
     "execution_count": 39,
     "metadata": {},
     "output_type": "execute_result"
    }
   ],
   "source": [
    "# Baseline gas consumption - i.e. what it would have been without the retrofit\n",
    "tot_gas_post_baseline = gas_post.loc[gas_post.index <5].Baseline_m3.sum()\n",
    "tot_gas_post_baseline"
   ]
  },
  {
   "cell_type": "code",
   "execution_count": 40,
   "metadata": {},
   "outputs": [
    {
     "data": {
      "text/plain": [
       "69.87082876856987"
      ]
     },
     "execution_count": 40,
     "metadata": {},
     "output_type": "execute_result"
    }
   ],
   "source": [
    "# Reduction in gas consumption in %\n",
    "(1-tot_gas_post/tot_gas_post_baseline)*100"
   ]
  },
  {
   "cell_type": "code",
   "execution_count": 41,
   "metadata": {},
   "outputs": [
    {
     "data": {
      "text/plain": [
       "1059.8024254290376"
      ]
     },
     "execution_count": 41,
     "metadata": {},
     "output_type": "execute_result"
    }
   ],
   "source": [
    "# Gas savings in m3\n",
    "gas_savings = tot_gas_post_baseline - tot_gas_post\n",
    "gas_savings"
   ]
  },
  {
   "cell_type": "markdown",
   "metadata": {},
   "source": [
    "Need to take into account the change in hot water usage. The homeowner mentioned the following changes (direct quote):  \n",
    "\"  \n",
    "1) I changed from 15 minutes showers to navy showers (2 minutes where you get wet, shut off & lather, and then rinse)  \n",
    "2) My wife stopped taking baths, which she would do a couple times a week especially during colder weather (oversized tub,  so significant volume of water)  \n",
    "3) Using less hot water when washing dishes by hand, and when using the sink (e.g. wash hands with very low volume)   \n",
    "\"  \n",
    "  \n",
    "1) and 3) could be taken account by looking at the gas consumption during Summer 2018 & 2019 vs. Summer 2021. Section 3 showed that total gas consumption from April 20th/2021 to August 20th/2021 was 85 m3 - or 21.5 m3 per month. It also showed August 22nd/2018 to October 18th/2018 had a total gas consumption of 75 m3, and May 22nd/2019 to July 18th had a gas consumption of 90 m3. This is 41.25 m3/month for the baseline period. The change is ~20 m3 per month and it is from (1) and (3). Ignored summer months with strangely low readings. The family does have a cottage and may not have actually been in the home much when gas consumption was very low during summer. Note the household also has 2 children that take 10-15 minute hot showers and that did not change pre- and post-retrofit.\n",
    "\n",
    "Estimating the impacts of no baths is more challenging. It is done below.\n"
   ]
  },
  {
   "cell_type": "code",
   "execution_count": 42,
   "metadata": {},
   "outputs": [
    {
     "data": {
      "text/plain": [
       "0.7801857585139319"
      ]
     },
     "execution_count": 42,
     "metadata": {},
     "output_type": "execute_result"
    }
   ],
   "source": [
    "# Estimate gas consumption per bath\n",
    "vol = 200 # water volume in L for a large tub - homeowner noted tub was large\n",
    "dens = 1 # water density kg/L\n",
    "c = 4200 # specific heat in Joule per kg oC\n",
    "t_tap = 10 # average inlet water temperature from the city\n",
    "t_b = 40 # bath temperature\n",
    "eff = 0.85 # efficiency loss due to insulated hot water pipes in home and efficiency of on-demand heater\n",
    "gas_energy = 0.038*10**9 # GJ per m3\n",
    "\n",
    "gas_per_bath = vol * dens * c *(t_b - t_tap) * (1/eff) * (1/gas_energy)\n",
    "gas_per_bath"
   ]
  },
  {
   "cell_type": "markdown",
   "metadata": {},
   "source": [
    "This is very approximate but it is estimated that 1 bath is 1 m3 of gas (rounding up). Baths were taken on a biweekly basis assumed over the 8-month period (35 weeks)."
   ]
  },
  {
   "cell_type": "code",
   "execution_count": 43,
   "metadata": {},
   "outputs": [
    {
     "data": {
      "text/plain": [
       "230"
      ]
     },
     "execution_count": 43,
     "metadata": {},
     "output_type": "execute_result"
    }
   ],
   "source": [
    "bath_correction = 1 * 2 * 35 # m3 savings from not taking baths during 2020/2021 for 8-month period\n",
    "shower_correction = 20 * 8 # m3 savings from navy showers and overall reduced hot water usage\n",
    "total_gas_corr = bath_correction + shower_correction\n",
    "total_gas_corr"
   ]
  },
  {
   "cell_type": "code",
   "execution_count": 44,
   "metadata": {},
   "outputs": [
    {
     "data": {
      "text/plain": [
       "829.8024254290376"
      ]
     },
     "execution_count": 44,
     "metadata": {},
     "output_type": "execute_result"
    }
   ],
   "source": [
    "# Gas savings from hybrid system\n",
    "hybrid_gas_sav = gas_savings - total_gas_corr\n",
    "hybrid_gas_sav"
   ]
  },
  {
   "cell_type": "code",
   "execution_count": 45,
   "metadata": {},
   "outputs": [
    {
     "data": {
      "text/plain": [
       "0.5470735090592451"
      ]
     },
     "execution_count": 45,
     "metadata": {},
     "output_type": "execute_result"
    }
   ],
   "source": [
    "# Percentage gas savings from hybrid system in reference to total gas bill\n",
    "hybrid_gas_sav/tot_gas_post_baseline"
   ]
  },
  {
   "cell_type": "code",
   "execution_count": 46,
   "metadata": {},
   "outputs": [
    {
     "data": {
      "text/plain": [
       "0.7430163174209222"
      ]
     },
     "execution_count": 46,
     "metadata": {},
     "output_type": "execute_result"
    }
   ],
   "source": [
    "# Percentage reduction in reference to space heating alone\n",
    "Total_DHW_baseline = bath_correction + 41.25*8 # Estimated baseline gas consumption for DHW; showers + baths\n",
    "hybrid_gas_sav/(tot_gas_post_baseline - Total_DHW_baseline)"
   ]
  },
  {
   "cell_type": "markdown",
   "metadata": {},
   "source": [
    "## 6.2 Electricity Consumption"
   ]
  },
  {
   "cell_type": "code",
   "execution_count": 47,
   "metadata": {},
   "outputs": [
    {
     "data": {
      "text/html": [
       "<div>\n",
       "<style scoped>\n",
       "    .dataframe tbody tr th:only-of-type {\n",
       "        vertical-align: middle;\n",
       "    }\n",
       "\n",
       "    .dataframe tbody tr th {\n",
       "        vertical-align: top;\n",
       "    }\n",
       "\n",
       "    .dataframe thead th {\n",
       "        text-align: right;\n",
       "    }\n",
       "</style>\n",
       "<table border=\"1\" class=\"dataframe\">\n",
       "  <thead>\n",
       "    <tr style=\"text-align: right;\">\n",
       "      <th></th>\n",
       "      <th>From</th>\n",
       "      <th>To</th>\n",
       "      <th>kWh</th>\n",
       "      <th>Cost</th>\n",
       "      <th>HDDs</th>\n",
       "    </tr>\n",
       "  </thead>\n",
       "  <tbody>\n",
       "    <tr>\n",
       "      <th>0</th>\n",
       "      <td>2018-09-01</td>\n",
       "      <td>2018-09-30</td>\n",
       "      <td>823.00</td>\n",
       "      <td>121.20</td>\n",
       "      <td>11.183333</td>\n",
       "    </tr>\n",
       "    <tr>\n",
       "      <th>1</th>\n",
       "      <td>2018-10-01</td>\n",
       "      <td>2018-10-31</td>\n",
       "      <td>715.00</td>\n",
       "      <td>107.94</td>\n",
       "      <td>170.912500</td>\n",
       "    </tr>\n",
       "    <tr>\n",
       "      <th>2</th>\n",
       "      <td>2018-11-01</td>\n",
       "      <td>2018-11-30</td>\n",
       "      <td>1128.00</td>\n",
       "      <td>160.00</td>\n",
       "      <td>355.770833</td>\n",
       "    </tr>\n",
       "    <tr>\n",
       "      <th>3</th>\n",
       "      <td>2018-12-01</td>\n",
       "      <td>2018-12-31</td>\n",
       "      <td>1157.54</td>\n",
       "      <td>122.93</td>\n",
       "      <td>417.787500</td>\n",
       "    </tr>\n",
       "    <tr>\n",
       "      <th>4</th>\n",
       "      <td>2019-01-01</td>\n",
       "      <td>2019-01-31</td>\n",
       "      <td>994.47</td>\n",
       "      <td>181.38</td>\n",
       "      <td>602.129167</td>\n",
       "    </tr>\n",
       "    <tr>\n",
       "      <th>5</th>\n",
       "      <td>2019-02-01</td>\n",
       "      <td>2019-02-28</td>\n",
       "      <td>1066.43</td>\n",
       "      <td>143.74</td>\n",
       "      <td>479.025000</td>\n",
       "    </tr>\n",
       "    <tr>\n",
       "      <th>6</th>\n",
       "      <td>2019-03-01</td>\n",
       "      <td>2019-03-31</td>\n",
       "      <td>852.11</td>\n",
       "      <td>142.86</td>\n",
       "      <td>447.741667</td>\n",
       "    </tr>\n",
       "    <tr>\n",
       "      <th>7</th>\n",
       "      <td>2019-04-01</td>\n",
       "      <td>2019-04-30</td>\n",
       "      <td>777.22</td>\n",
       "      <td>123.06</td>\n",
       "      <td>226.300000</td>\n",
       "    </tr>\n",
       "    <tr>\n",
       "      <th>8</th>\n",
       "      <td>2019-05-01</td>\n",
       "      <td>2019-05-31</td>\n",
       "      <td>763.57</td>\n",
       "      <td>145.31</td>\n",
       "      <td>95.008333</td>\n",
       "    </tr>\n",
       "    <tr>\n",
       "      <th>9</th>\n",
       "      <td>2019-06-01</td>\n",
       "      <td>2019-06-30</td>\n",
       "      <td>969.46</td>\n",
       "      <td>109.76</td>\n",
       "      <td>9.287500</td>\n",
       "    </tr>\n",
       "    <tr>\n",
       "      <th>10</th>\n",
       "      <td>2019-07-01</td>\n",
       "      <td>2019-07-31</td>\n",
       "      <td>670.39</td>\n",
       "      <td>149.50</td>\n",
       "      <td>0.000000</td>\n",
       "    </tr>\n",
       "    <tr>\n",
       "      <th>11</th>\n",
       "      <td>2019-08-01</td>\n",
       "      <td>2019-08-31</td>\n",
       "      <td>902.87</td>\n",
       "      <td>119.73</td>\n",
       "      <td>0.262500</td>\n",
       "    </tr>\n",
       "    <tr>\n",
       "      <th>12</th>\n",
       "      <td>2020-09-01</td>\n",
       "      <td>2020-09-30</td>\n",
       "      <td>645.00</td>\n",
       "      <td>111.56</td>\n",
       "      <td>21.791667</td>\n",
       "    </tr>\n",
       "    <tr>\n",
       "      <th>13</th>\n",
       "      <td>2020-10-01</td>\n",
       "      <td>2020-10-31</td>\n",
       "      <td>854.00</td>\n",
       "      <td>135.52</td>\n",
       "      <td>139.475000</td>\n",
       "    </tr>\n",
       "    <tr>\n",
       "      <th>14</th>\n",
       "      <td>2020-11-01</td>\n",
       "      <td>2020-11-30</td>\n",
       "      <td>1105.00</td>\n",
       "      <td>154.68</td>\n",
       "      <td>214.270833</td>\n",
       "    </tr>\n",
       "    <tr>\n",
       "      <th>15</th>\n",
       "      <td>2020-12-01</td>\n",
       "      <td>2020-12-31</td>\n",
       "      <td>1523.00</td>\n",
       "      <td>208.71</td>\n",
       "      <td>427.566667</td>\n",
       "    </tr>\n",
       "    <tr>\n",
       "      <th>16</th>\n",
       "      <td>2021-01-01</td>\n",
       "      <td>2021-01-31</td>\n",
       "      <td>1497.00</td>\n",
       "      <td>189.72</td>\n",
       "      <td>485.404167</td>\n",
       "    </tr>\n",
       "    <tr>\n",
       "      <th>17</th>\n",
       "      <td>2021-02-01</td>\n",
       "      <td>2021-02-28</td>\n",
       "      <td>1234.00</td>\n",
       "      <td>158.23</td>\n",
       "      <td>522.787500</td>\n",
       "    </tr>\n",
       "    <tr>\n",
       "      <th>18</th>\n",
       "      <td>2021-03-01</td>\n",
       "      <td>2021-03-31</td>\n",
       "      <td>1093.00</td>\n",
       "      <td>156.40</td>\n",
       "      <td>329.866667</td>\n",
       "    </tr>\n",
       "    <tr>\n",
       "      <th>19</th>\n",
       "      <td>2021-04-01</td>\n",
       "      <td>2021-04-30</td>\n",
       "      <td>1063.00</td>\n",
       "      <td>153.62</td>\n",
       "      <td>185.987500</td>\n",
       "    </tr>\n",
       "    <tr>\n",
       "      <th>20</th>\n",
       "      <td>2021-05-01</td>\n",
       "      <td>2021-05-31</td>\n",
       "      <td>784.00</td>\n",
       "      <td>126.27</td>\n",
       "      <td>85.900000</td>\n",
       "    </tr>\n",
       "    <tr>\n",
       "      <th>21</th>\n",
       "      <td>2021-06-01</td>\n",
       "      <td>2021-06-30</td>\n",
       "      <td>730.00</td>\n",
       "      <td>122.02</td>\n",
       "      <td>3.316667</td>\n",
       "    </tr>\n",
       "    <tr>\n",
       "      <th>22</th>\n",
       "      <td>2021-07-01</td>\n",
       "      <td>2021-07-31</td>\n",
       "      <td>845.00</td>\n",
       "      <td>134.18</td>\n",
       "      <td>0.000000</td>\n",
       "    </tr>\n",
       "    <tr>\n",
       "      <th>23</th>\n",
       "      <td>2021-08-01</td>\n",
       "      <td>2021-08-31</td>\n",
       "      <td>935.00</td>\n",
       "      <td>144.53</td>\n",
       "      <td>0.000000</td>\n",
       "    </tr>\n",
       "  </tbody>\n",
       "</table>\n",
       "</div>"
      ],
      "text/plain": [
       "         From         To      kWh    Cost        HDDs\n",
       "0  2018-09-01 2018-09-30   823.00  121.20   11.183333\n",
       "1  2018-10-01 2018-10-31   715.00  107.94  170.912500\n",
       "2  2018-11-01 2018-11-30  1128.00  160.00  355.770833\n",
       "3  2018-12-01 2018-12-31  1157.54  122.93  417.787500\n",
       "4  2019-01-01 2019-01-31   994.47  181.38  602.129167\n",
       "5  2019-02-01 2019-02-28  1066.43  143.74  479.025000\n",
       "6  2019-03-01 2019-03-31   852.11  142.86  447.741667\n",
       "7  2019-04-01 2019-04-30   777.22  123.06  226.300000\n",
       "8  2019-05-01 2019-05-31   763.57  145.31   95.008333\n",
       "9  2019-06-01 2019-06-30   969.46  109.76    9.287500\n",
       "10 2019-07-01 2019-07-31   670.39  149.50    0.000000\n",
       "11 2019-08-01 2019-08-31   902.87  119.73    0.262500\n",
       "12 2020-09-01 2020-09-30   645.00  111.56   21.791667\n",
       "13 2020-10-01 2020-10-31   854.00  135.52  139.475000\n",
       "14 2020-11-01 2020-11-30  1105.00  154.68  214.270833\n",
       "15 2020-12-01 2020-12-31  1523.00  208.71  427.566667\n",
       "16 2021-01-01 2021-01-31  1497.00  189.72  485.404167\n",
       "17 2021-02-01 2021-02-28  1234.00  158.23  522.787500\n",
       "18 2021-03-01 2021-03-31  1093.00  156.40  329.866667\n",
       "19 2021-04-01 2021-04-30  1063.00  153.62  185.987500\n",
       "20 2021-05-01 2021-05-31   784.00  126.27   85.900000\n",
       "21 2021-06-01 2021-06-30   730.00  122.02    3.316667\n",
       "22 2021-07-01 2021-07-31   845.00  134.18    0.000000\n",
       "23 2021-08-01 2021-08-31   935.00  144.53    0.000000"
      ]
     },
     "execution_count": 47,
     "metadata": {},
     "output_type": "execute_result"
    }
   ],
   "source": [
    "# Add HDDs to dataframe\n",
    "elec['HDDs'] = [HDD_total(x,y)['HDDs'] for x,y in zip(elec.From,elec.To)]\n",
    "elec"
   ]
  },
  {
   "cell_type": "code",
   "execution_count": 48,
   "metadata": {},
   "outputs": [
    {
     "data": {
      "text/html": [
       "<div>\n",
       "<style scoped>\n",
       "    .dataframe tbody tr th:only-of-type {\n",
       "        vertical-align: middle;\n",
       "    }\n",
       "\n",
       "    .dataframe tbody tr th {\n",
       "        vertical-align: top;\n",
       "    }\n",
       "\n",
       "    .dataframe thead th {\n",
       "        text-align: right;\n",
       "    }\n",
       "</style>\n",
       "<table border=\"1\" class=\"dataframe\">\n",
       "  <thead>\n",
       "    <tr style=\"text-align: right;\">\n",
       "      <th></th>\n",
       "      <th>From</th>\n",
       "      <th>To</th>\n",
       "      <th>kWh</th>\n",
       "      <th>Cost</th>\n",
       "      <th>HDDs</th>\n",
       "    </tr>\n",
       "  </thead>\n",
       "  <tbody>\n",
       "    <tr>\n",
       "      <th>2</th>\n",
       "      <td>2018-11-01</td>\n",
       "      <td>2018-11-30</td>\n",
       "      <td>1128.00</td>\n",
       "      <td>160.00</td>\n",
       "      <td>355.770833</td>\n",
       "    </tr>\n",
       "    <tr>\n",
       "      <th>3</th>\n",
       "      <td>2018-12-01</td>\n",
       "      <td>2018-12-31</td>\n",
       "      <td>1157.54</td>\n",
       "      <td>122.93</td>\n",
       "      <td>417.787500</td>\n",
       "    </tr>\n",
       "    <tr>\n",
       "      <th>4</th>\n",
       "      <td>2019-01-01</td>\n",
       "      <td>2019-01-31</td>\n",
       "      <td>994.47</td>\n",
       "      <td>181.38</td>\n",
       "      <td>602.129167</td>\n",
       "    </tr>\n",
       "    <tr>\n",
       "      <th>5</th>\n",
       "      <td>2019-02-01</td>\n",
       "      <td>2019-02-28</td>\n",
       "      <td>1066.43</td>\n",
       "      <td>143.74</td>\n",
       "      <td>479.025000</td>\n",
       "    </tr>\n",
       "    <tr>\n",
       "      <th>6</th>\n",
       "      <td>2019-03-01</td>\n",
       "      <td>2019-03-31</td>\n",
       "      <td>852.11</td>\n",
       "      <td>142.86</td>\n",
       "      <td>447.741667</td>\n",
       "    </tr>\n",
       "    <tr>\n",
       "      <th>7</th>\n",
       "      <td>2019-04-01</td>\n",
       "      <td>2019-04-30</td>\n",
       "      <td>777.22</td>\n",
       "      <td>123.06</td>\n",
       "      <td>226.300000</td>\n",
       "    </tr>\n",
       "    <tr>\n",
       "      <th>8</th>\n",
       "      <td>2019-05-01</td>\n",
       "      <td>2019-05-31</td>\n",
       "      <td>763.57</td>\n",
       "      <td>145.31</td>\n",
       "      <td>95.008333</td>\n",
       "    </tr>\n",
       "    <tr>\n",
       "      <th>9</th>\n",
       "      <td>2019-06-01</td>\n",
       "      <td>2019-06-30</td>\n",
       "      <td>969.46</td>\n",
       "      <td>109.76</td>\n",
       "      <td>9.287500</td>\n",
       "    </tr>\n",
       "  </tbody>\n",
       "</table>\n",
       "</div>"
      ],
      "text/plain": [
       "        From         To      kWh    Cost        HDDs\n",
       "2 2018-11-01 2018-11-30  1128.00  160.00  355.770833\n",
       "3 2018-12-01 2018-12-31  1157.54  122.93  417.787500\n",
       "4 2019-01-01 2019-01-31   994.47  181.38  602.129167\n",
       "5 2019-02-01 2019-02-28  1066.43  143.74  479.025000\n",
       "6 2019-03-01 2019-03-31   852.11  142.86  447.741667\n",
       "7 2019-04-01 2019-04-30   777.22  123.06  226.300000\n",
       "8 2019-05-01 2019-05-31   763.57  145.31   95.008333\n",
       "9 2019-06-01 2019-06-30   969.46  109.76    9.287500"
      ]
     },
     "execution_count": 48,
     "metadata": {},
     "output_type": "execute_result"
    }
   ],
   "source": [
    "# Define a pre-retrofit dataframe\n",
    "elec_pre = elec.loc[(elec.index > 1)&(elec.index < 10)]\n",
    "elec_pre"
   ]
  },
  {
   "cell_type": "code",
   "execution_count": 49,
   "metadata": {},
   "outputs": [
    {
     "data": {
      "text/html": [
       "<div>\n",
       "<style scoped>\n",
       "    .dataframe tbody tr th:only-of-type {\n",
       "        vertical-align: middle;\n",
       "    }\n",
       "\n",
       "    .dataframe tbody tr th {\n",
       "        vertical-align: top;\n",
       "    }\n",
       "\n",
       "    .dataframe thead th {\n",
       "        text-align: right;\n",
       "    }\n",
       "</style>\n",
       "<table border=\"1\" class=\"dataframe\">\n",
       "  <thead>\n",
       "    <tr style=\"text-align: right;\">\n",
       "      <th></th>\n",
       "      <th>From</th>\n",
       "      <th>To</th>\n",
       "      <th>kWh</th>\n",
       "      <th>Cost</th>\n",
       "      <th>HDDs</th>\n",
       "    </tr>\n",
       "  </thead>\n",
       "  <tbody>\n",
       "    <tr>\n",
       "      <th>14</th>\n",
       "      <td>2020-11-01</td>\n",
       "      <td>2020-11-30</td>\n",
       "      <td>1105.0</td>\n",
       "      <td>154.68</td>\n",
       "      <td>214.270833</td>\n",
       "    </tr>\n",
       "    <tr>\n",
       "      <th>15</th>\n",
       "      <td>2020-12-01</td>\n",
       "      <td>2020-12-31</td>\n",
       "      <td>1523.0</td>\n",
       "      <td>208.71</td>\n",
       "      <td>427.566667</td>\n",
       "    </tr>\n",
       "    <tr>\n",
       "      <th>16</th>\n",
       "      <td>2021-01-01</td>\n",
       "      <td>2021-01-31</td>\n",
       "      <td>1497.0</td>\n",
       "      <td>189.72</td>\n",
       "      <td>485.404167</td>\n",
       "    </tr>\n",
       "    <tr>\n",
       "      <th>17</th>\n",
       "      <td>2021-02-01</td>\n",
       "      <td>2021-02-28</td>\n",
       "      <td>1234.0</td>\n",
       "      <td>158.23</td>\n",
       "      <td>522.787500</td>\n",
       "    </tr>\n",
       "    <tr>\n",
       "      <th>18</th>\n",
       "      <td>2021-03-01</td>\n",
       "      <td>2021-03-31</td>\n",
       "      <td>1093.0</td>\n",
       "      <td>156.40</td>\n",
       "      <td>329.866667</td>\n",
       "    </tr>\n",
       "    <tr>\n",
       "      <th>19</th>\n",
       "      <td>2021-04-01</td>\n",
       "      <td>2021-04-30</td>\n",
       "      <td>1063.0</td>\n",
       "      <td>153.62</td>\n",
       "      <td>185.987500</td>\n",
       "    </tr>\n",
       "    <tr>\n",
       "      <th>20</th>\n",
       "      <td>2021-05-01</td>\n",
       "      <td>2021-05-31</td>\n",
       "      <td>784.0</td>\n",
       "      <td>126.27</td>\n",
       "      <td>85.900000</td>\n",
       "    </tr>\n",
       "    <tr>\n",
       "      <th>21</th>\n",
       "      <td>2021-06-01</td>\n",
       "      <td>2021-06-30</td>\n",
       "      <td>730.0</td>\n",
       "      <td>122.02</td>\n",
       "      <td>3.316667</td>\n",
       "    </tr>\n",
       "  </tbody>\n",
       "</table>\n",
       "</div>"
      ],
      "text/plain": [
       "         From         To     kWh    Cost        HDDs\n",
       "14 2020-11-01 2020-11-30  1105.0  154.68  214.270833\n",
       "15 2020-12-01 2020-12-31  1523.0  208.71  427.566667\n",
       "16 2021-01-01 2021-01-31  1497.0  189.72  485.404167\n",
       "17 2021-02-01 2021-02-28  1234.0  158.23  522.787500\n",
       "18 2021-03-01 2021-03-31  1093.0  156.40  329.866667\n",
       "19 2021-04-01 2021-04-30  1063.0  153.62  185.987500\n",
       "20 2021-05-01 2021-05-31   784.0  126.27   85.900000\n",
       "21 2021-06-01 2021-06-30   730.0  122.02    3.316667"
      ]
     },
     "execution_count": 49,
     "metadata": {},
     "output_type": "execute_result"
    }
   ],
   "source": [
    "# Define a post-retrofit dataframe\n",
    "elec_post = elec.loc[(elec.index > 13)&(elec.index < 22)]\n",
    "elec_post"
   ]
  },
  {
   "cell_type": "code",
   "execution_count": 50,
   "metadata": {},
   "outputs": [
    {
     "data": {
      "text/plain": [
       "(0, 1600)"
      ]
     },
     "execution_count": 50,
     "metadata": {},
     "output_type": "execute_result"
    },
    {
     "data": {
      "image/png": "[encoded data removed]",
      "text/plain": [
       "<Figure size 504x360 with 1 Axes>"
      ]
     },
     "metadata": {
      "needs_background": "light"
     },
     "output_type": "display_data"
    }
   ],
   "source": [
    "# Visualize results \n",
    "plt.figure(figsize = (7,5))\n",
    "plt.scatter(elec_pre.HDDs,elec_pre.kWh, label = 'Pre-retrofit', color = step_blue)\n",
    "plt.scatter(elec_post.HDDs,elec_post.kWh, label = 'Post-retrofit', color = step_gold)\n",
    "plt.grid(ls='--')\n",
    "plt.xlabel('HDDs')\n",
    "plt.ylabel('Monthly Electricity (kWh)')\n",
    "plt.ylim(0,1600)"
   ]
  },
  {
   "cell_type": "markdown",
   "metadata": {},
   "source": [
    "The data suggests a weak temperature dependence pre-retrofit. There at least 2 sources of the temperature dependence. Firstly, the furnace blower (which could be on the scale of 500W) is going to be operating much more in cold weather. For example, say the furnace operated 10 hours per day on average for the coldest months. This would be 5 kWh per day, or roughly 150 kWh for a month. Secondly, the homeowner commutes to work (48km round trip 5 days per week) with an electric vehicle. He estimates that the efficiency of the vehicle drops from approximately 130 Wh per km in warmer temperatures to 220 Wh per km in very cold temperatures. That is an extra 4.3 kWh per day, and near 100 kWh per month. These two factors explain the large majority of the temperature dependence. Baseline electricity consumption can be represented by a linear regression model."
   ]
  },
  {
   "cell_type": "code",
   "execution_count": 51,
   "metadata": {},
   "outputs": [
    {
     "name": "stdout",
     "output_type": "stream",
     "text": [
      "coefficient of determination: 0.19760872304765076\n",
      "intercept: 853.2712994955949\n",
      "slope: [0.33521187]\n"
     ]
    }
   ],
   "source": [
    "# Calculate regression line for baseline electricity data\n",
    "x = np.array(elec_pre.HDDs).reshape((-1, 1))\n",
    "y = np.array(elec_pre.kWh)\n",
    "pre_model_elec = LinearRegression()\n",
    "pre_model_elec.fit(x, y)\n",
    "pre_model_elec_r_sq = pre_model_elec.score(x, y)\n",
    "print('coefficient of determination:', pre_model_elec_r_sq)\n",
    "print('intercept:', pre_model_elec.intercept_)\n",
    "print('slope:', pre_model_elec.coef_)"
   ]
  },
  {
   "cell_type": "markdown",
   "metadata": {},
   "source": [
    "The model has a low R2. This means that there are other important factors influencing the variation besides HDDs. With limited data available, it is not possible to take these factors into account."
   ]
  },
  {
   "cell_type": "code",
   "execution_count": 52,
   "metadata": {},
   "outputs": [],
   "source": [
    "# Define monthly model pre-retrofit for electricity\n",
    "def pre_model_elec_month(HDD):\n",
    "    kWh = pre_model_elec.coef_[0]*HDD + pre_model_elec.intercept_\n",
    "    return kWh"
   ]
  },
  {
   "cell_type": "code",
   "execution_count": 53,
   "metadata": {},
   "outputs": [
    {
     "name": "stderr",
     "output_type": "stream",
     "text": [
      "C:\\ProgramData\\Anaconda3\\lib\\site-packages\\ipykernel_launcher.py:2: SettingWithCopyWarning: \n",
      "A value is trying to be set on a copy of a slice from a DataFrame.\n",
      "Try using .loc[row_indexer,col_indexer] = value instead\n",
      "\n",
      "See the caveats in the documentation: http://pandas.pydata.org/pandas-docs/stable/indexing.html#indexing-view-versus-copy\n",
      "  \n"
     ]
    },
    {
     "data": {
      "text/plain": [
       "(0, 1600)"
      ]
     },
     "execution_count": 53,
     "metadata": {},
     "output_type": "execute_result"
    },
    {
     "data": {
      "image/png": "[encoded data removed]",
      "text/plain": [
       "<Figure size 504x360 with 1 Axes>"
      ]
     },
     "metadata": {
      "needs_background": "light"
     },
     "output_type": "display_data"
    }
   ],
   "source": [
    "# Visualize model against actual data\n",
    "elec_pre['Modelled'] = [pre_model_elec_month(x) for x in elec_pre.HDDs]\n",
    "plt.figure(figsize = (7,5))\n",
    "plt.scatter(elec_pre.HDDs,elec_pre.kWh, label = 'Pre-retrofit', color = step_blue)\n",
    "plt.scatter(elec_post.HDDs,elec_post.kWh, label = 'Post-retrofit', color = step_gold)\n",
    "plt.plot(elec_pre.HDDs,elec_pre.Modelled, color = step_blue)\n",
    "plt.grid(ls='--')\n",
    "plt.xlabel('HDDs')\n",
    "plt.ylabel('Monthly Electricity (kWh)')\n",
    "plt.ylim(0,1600)"
   ]
  },
  {
   "cell_type": "code",
   "execution_count": 54,
   "metadata": {},
   "outputs": [
    {
     "name": "stderr",
     "output_type": "stream",
     "text": [
      "C:\\ProgramData\\Anaconda3\\lib\\site-packages\\ipykernel_launcher.py:2: SettingWithCopyWarning: \n",
      "A value is trying to be set on a copy of a slice from a DataFrame.\n",
      "Try using .loc[row_indexer,col_indexer] = value instead\n",
      "\n",
      "See the caveats in the documentation: http://pandas.pydata.org/pandas-docs/stable/indexing.html#indexing-view-versus-copy\n",
      "  \n"
     ]
    },
    {
     "data": {
      "text/html": [
       "<div>\n",
       "<style scoped>\n",
       "    .dataframe tbody tr th:only-of-type {\n",
       "        vertical-align: middle;\n",
       "    }\n",
       "\n",
       "    .dataframe tbody tr th {\n",
       "        vertical-align: top;\n",
       "    }\n",
       "\n",
       "    .dataframe thead th {\n",
       "        text-align: right;\n",
       "    }\n",
       "</style>\n",
       "<table border=\"1\" class=\"dataframe\">\n",
       "  <thead>\n",
       "    <tr style=\"text-align: right;\">\n",
       "      <th></th>\n",
       "      <th>From</th>\n",
       "      <th>To</th>\n",
       "      <th>kWh</th>\n",
       "      <th>Cost</th>\n",
       "      <th>HDDs</th>\n",
       "      <th>Baseline_kWh</th>\n",
       "    </tr>\n",
       "  </thead>\n",
       "  <tbody>\n",
       "    <tr>\n",
       "      <th>14</th>\n",
       "      <td>2020-11-01</td>\n",
       "      <td>2020-11-30</td>\n",
       "      <td>1105.0</td>\n",
       "      <td>154.68</td>\n",
       "      <td>214.270833</td>\n",
       "      <td>925.097425</td>\n",
       "    </tr>\n",
       "    <tr>\n",
       "      <th>15</th>\n",
       "      <td>2020-12-01</td>\n",
       "      <td>2020-12-31</td>\n",
       "      <td>1523.0</td>\n",
       "      <td>208.71</td>\n",
       "      <td>427.566667</td>\n",
       "      <td>996.596720</td>\n",
       "    </tr>\n",
       "    <tr>\n",
       "      <th>16</th>\n",
       "      <td>2021-01-01</td>\n",
       "      <td>2021-01-31</td>\n",
       "      <td>1497.0</td>\n",
       "      <td>189.72</td>\n",
       "      <td>485.404167</td>\n",
       "      <td>1015.984536</td>\n",
       "    </tr>\n",
       "    <tr>\n",
       "      <th>17</th>\n",
       "      <td>2021-02-01</td>\n",
       "      <td>2021-02-28</td>\n",
       "      <td>1234.0</td>\n",
       "      <td>158.23</td>\n",
       "      <td>522.787500</td>\n",
       "      <td>1028.515873</td>\n",
       "    </tr>\n",
       "    <tr>\n",
       "      <th>18</th>\n",
       "      <td>2021-03-01</td>\n",
       "      <td>2021-03-31</td>\n",
       "      <td>1093.0</td>\n",
       "      <td>156.40</td>\n",
       "      <td>329.866667</td>\n",
       "      <td>963.846520</td>\n",
       "    </tr>\n",
       "    <tr>\n",
       "      <th>19</th>\n",
       "      <td>2021-04-01</td>\n",
       "      <td>2021-04-30</td>\n",
       "      <td>1063.0</td>\n",
       "      <td>153.62</td>\n",
       "      <td>185.987500</td>\n",
       "      <td>915.616516</td>\n",
       "    </tr>\n",
       "    <tr>\n",
       "      <th>20</th>\n",
       "      <td>2021-05-01</td>\n",
       "      <td>2021-05-31</td>\n",
       "      <td>784.0</td>\n",
       "      <td>126.27</td>\n",
       "      <td>85.900000</td>\n",
       "      <td>882.065999</td>\n",
       "    </tr>\n",
       "    <tr>\n",
       "      <th>21</th>\n",
       "      <td>2021-06-01</td>\n",
       "      <td>2021-06-30</td>\n",
       "      <td>730.0</td>\n",
       "      <td>122.02</td>\n",
       "      <td>3.316667</td>\n",
       "      <td>854.383086</td>\n",
       "    </tr>\n",
       "  </tbody>\n",
       "</table>\n",
       "</div>"
      ],
      "text/plain": [
       "         From         To     kWh    Cost        HDDs  Baseline_kWh\n",
       "14 2020-11-01 2020-11-30  1105.0  154.68  214.270833    925.097425\n",
       "15 2020-12-01 2020-12-31  1523.0  208.71  427.566667    996.596720\n",
       "16 2021-01-01 2021-01-31  1497.0  189.72  485.404167   1015.984536\n",
       "17 2021-02-01 2021-02-28  1234.0  158.23  522.787500   1028.515873\n",
       "18 2021-03-01 2021-03-31  1093.0  156.40  329.866667    963.846520\n",
       "19 2021-04-01 2021-04-30  1063.0  153.62  185.987500    915.616516\n",
       "20 2021-05-01 2021-05-31   784.0  126.27   85.900000    882.065999\n",
       "21 2021-06-01 2021-06-30   730.0  122.02    3.316667    854.383086"
      ]
     },
     "execution_count": 54,
     "metadata": {},
     "output_type": "execute_result"
    }
   ],
   "source": [
    "# Use model to add a baseline electricity estimate to the post-retrofit dataframe\n",
    "elec_post['Baseline_kWh'] = [pre_model_elec_month(x) for x in elec_post.HDDs]\n",
    "elec_post"
   ]
  },
  {
   "cell_type": "code",
   "execution_count": 55,
   "metadata": {},
   "outputs": [
    {
     "data": {
      "text/plain": [
       "<matplotlib.legend.Legend at 0x207cfbef278>"
      ]
     },
     "execution_count": 55,
     "metadata": {},
     "output_type": "execute_result"
    },
    {
     "data": {
      "image/png": "[encoded data removed]",
      "text/plain": [
       "<Figure size 504x360 with 1 Axes>"
      ]
     },
     "metadata": {
      "needs_background": "light"
     },
     "output_type": "display_data"
    }
   ],
   "source": [
    "# Visualize as a barplot\n",
    "# Note that this has not yet taken into account the reduction in EV usage dur to COVID-19\n",
    "fig, ax = plt.subplots(figsize=(7,5))\n",
    "ax.bar(elec_post.From,elec_post.kWh,width = 10, align = 'edge', color = step_gold, label = 'Post-retrofit')\n",
    "ax.bar(elec_post.From,elec_post.Baseline_kWh,width = -10, align = 'edge', color = step_blue, label = 'Baseline')\n",
    "ax.set_xticklabels(['Nov','Dec','Jan','Feb','Mar','Apr','May','Jun'])\n",
    "ax.set_ylabel('Electricity [kWh]')\n",
    "ax.legend()"
   ]
  },
  {
   "cell_type": "code",
   "execution_count": 56,
   "metadata": {},
   "outputs": [
    {
     "data": {
      "text/plain": [
       "9029.0"
      ]
     },
     "execution_count": 56,
     "metadata": {},
     "output_type": "execute_result"
    }
   ],
   "source": [
    "# Total electricity consumption post-retrofit \n",
    "tot_elec_post = elec_post.kWh.sum()\n",
    "tot_elec_post"
   ]
  },
  {
   "cell_type": "code",
   "execution_count": 57,
   "metadata": {},
   "outputs": [
    {
     "data": {
      "text/plain": [
       "7582.106675207415"
      ]
     },
     "execution_count": 57,
     "metadata": {},
     "output_type": "execute_result"
    }
   ],
   "source": [
    "# Total estimated baseline electricity - i.e. what it would have been with no heat pump\n",
    "tot_elec_baseline = elec_post.Baseline_kWh.sum()\n",
    "tot_elec_baseline"
   ]
  },
  {
   "cell_type": "code",
   "execution_count": 58,
   "metadata": {},
   "outputs": [
    {
     "data": {
      "text/plain": [
       "19.08299878612567"
      ]
     },
     "execution_count": 58,
     "metadata": {},
     "output_type": "execute_result"
    }
   ],
   "source": [
    "# Increase in electricity consumption (%)\n",
    "100*(tot_elec_post/tot_elec_baseline - 1)"
   ]
  },
  {
   "cell_type": "code",
   "execution_count": 59,
   "metadata": {},
   "outputs": [
    {
     "data": {
      "text/plain": [
       "1446.8933247925852"
      ]
     },
     "execution_count": 59,
     "metadata": {},
     "output_type": "execute_result"
    }
   ],
   "source": [
    "# Increase in electricity consumption (kWh)\n",
    "elec_increase = tot_elec_post - tot_elec_baseline\n",
    "elec_increase"
   ]
  },
  {
   "cell_type": "markdown",
   "metadata": {},
   "source": [
    "This needs to be adjusted for the change in EV (Tesla) usage. The homeowner collected data on charging from October 8th/2020 to April 18th/2021 - and it totalled 1,279 kWh. Adjusting to 8 months (to coincide with the other utility data being analyzed) yields 1,618 kWh.\n",
    "\n",
    "During 2020/2021, the electric vehicle was driven for a commute a total of 20 km per day for 4.5 days per week and 48 weeks per year. This totals to 4,320 km per year - or 2,880 km adjusted to 8 months. The Tesla efficiency is 160 Wh per km in ideal conditions and 220 Wh per km in very cold weather. Assuming an average of 190 Wh per km, the electricity consumption for commuting during the 8-month period post-retrofit is 547 kWh - so the large majority of usage (1,071) kWh is from non-work usage like errands or going to their cottage. \n",
    "\n",
    "During 2018/2019 the electric vehicle was used to drive 48 km round trip per day for 48 weeks per year, totalling 11,520 km per year - adjusted to 7,680 km for 8 months. Assuming 190 Wh per km, this is 1,459 kWh. No data on actual consumption is available. The difference in electricity from commuting is therefore 912 kWh. \n",
    "\n",
    "The homeowner noted that in 2020/2021 they also drove less for non-commuting activities compared to 2018/2019 due to the pandemic. Their non-commuting activities are a significant portion of their overall EV consumption. Assuming their non-commuting reduced by 30% that would lead to an additional correction of 693 kWh."
   ]
  },
  {
   "cell_type": "code",
   "execution_count": 60,
   "metadata": {},
   "outputs": [
    {
     "data": {
      "text/plain": [
       "693.4285714285716"
      ]
     },
     "execution_count": 60,
     "metadata": {},
     "output_type": "execute_result"
    }
   ],
   "source": [
    "corr_non_commute = 1618/(1-0.30) - 1618 # Assuming that 1618 is actually a 30% reduction for non-commuting activities\n",
    "corr_non_commute"
   ]
  },
  {
   "cell_type": "code",
   "execution_count": 61,
   "metadata": {},
   "outputs": [
    {
     "data": {
      "text/plain": [
       "1605.4285714285716"
      ]
     },
     "execution_count": 61,
     "metadata": {},
     "output_type": "execute_result"
    }
   ],
   "source": [
    "# Correct electrical increase\n",
    "corr = 912 + corr_non_commute\n",
    "corr"
   ]
  },
  {
   "cell_type": "code",
   "execution_count": 62,
   "metadata": {},
   "outputs": [
    {
     "data": {
      "text/plain": [
       "5976.678103778843"
      ]
     },
     "execution_count": 62,
     "metadata": {},
     "output_type": "execute_result"
    }
   ],
   "source": [
    "# Corrected baseline\n",
    "tot_elec_baseline_corr = tot_elec_baseline - corr\n",
    "tot_elec_baseline_corr"
   ]
  },
  {
   "cell_type": "code",
   "execution_count": 63,
   "metadata": {},
   "outputs": [
    {
     "data": {
      "text/plain": [
       "3052.3218962211567"
      ]
     },
     "execution_count": 63,
     "metadata": {},
     "output_type": "execute_result"
    }
   ],
   "source": [
    "# Add correction to increase\n",
    "elec_increase_corr = tot_elec_post - tot_elec_baseline_corr\n",
    "elec_increase_corr"
   ]
  },
  {
   "cell_type": "code",
   "execution_count": 64,
   "metadata": {},
   "outputs": [
    {
     "data": {
      "text/plain": [
       "364.63037372257946"
      ]
     },
     "execution_count": 64,
     "metadata": {},
     "output_type": "execute_result"
    }
   ],
   "source": [
    "# Electricity cost increase\n",
    "elec_increase_corr * elec_rate"
   ]
  },
  {
   "cell_type": "markdown",
   "metadata": {},
   "source": [
    "## 6.3 Estimate Rough COP to Ensure Results are Reasonable\n",
    "If you look at the ratio of gas energy savings (adjusted for furnace efficiency) vs. electricity energy increase, then it is a rough estimate of COP and it should fall within a reasonable range. Recall that gas savings is energy that was previous supplied to heat the home. That heat energy is now provided by the heat pump (correcting for the furnace). The previous furnace had an AFUE of 92% but it actual efficiency would likely be lower due its age and other practical considerations."
   ]
  },
  {
   "cell_type": "code",
   "execution_count": 65,
   "metadata": {},
   "outputs": [
    {
     "data": {
      "text/plain": [
       "2.4494532710890446"
      ]
     },
     "execution_count": 65,
     "metadata": {},
     "output_type": "execute_result"
    }
   ],
   "source": [
    "# Calc rough COP as a check on the data\n",
    "COP = (hybrid_gas_sav * 0.85 * 10.6) / (elec_increase_corr) # 10.6 is kWh energy per m3; 85% is assume previous furnace efficiency\n",
    "COP"
   ]
  },
  {
   "cell_type": "markdown",
   "metadata": {},
   "source": [
    "Heat pump specs are below. I'll calculate a temperature-weighted COP based on this manufacturer data and the temperature during the post-retrofit period. This is done below.\n",
    "\n",
    "![hp_specs.png](hp_specs.png)"
   ]
  },
  {
   "cell_type": "code",
   "execution_count": 66,
   "metadata": {},
   "outputs": [
    {
     "name": "stdout",
     "output_type": "stream",
     "text": [
      "coefficient of determination: 0.9852625129228393\n",
      "intercept: 2.6594545454545457\n",
      "slope: [0.07003636]\n"
     ]
    },
    {
     "data": {
      "text/plain": [
       "Text(0.5, 1.0, 'Manufacturer Specs')"
      ]
     },
     "execution_count": 66,
     "metadata": {},
     "output_type": "execute_result"
    },
    {
     "data": {
      "image/png": "[encoded data removed]",
      "text/plain": [
       "<Figure size 504x360 with 1 Axes>"
      ]
     },
     "metadata": {
      "needs_background": "light"
     },
     "output_type": "display_data"
    }
   ],
   "source": [
    "# PLot COP and define model\n",
    "COP_Temps_F = [65, 60, 55, 50, 45, 40, 35, 30, 25, 20]\n",
    "COP_Temps_C = [(x-32)*(5/9) for x in COP_Temps_F]\n",
    "COPs = [3.86, 3.72, 3.57, 3.41, 3.22, 3.05, 2.87, 2.46, 2.33, 2.19]\n",
    "\n",
    "# Visulualize COP data\n",
    "plt.figure(figsize = (7,5))\n",
    "plt.scatter(COP_Temps_C, COPs, color = step_blue)\n",
    "plt.xlabel('Outdoor Temperature [$^{o}$C]')\n",
    "plt.ylabel('COP')\n",
    "\n",
    "# Calculate regression model for COP\n",
    "x = np.array(COP_Temps_C).reshape((-1, 1))\n",
    "y = np.array(COPs)\n",
    "COP_model = LinearRegression()\n",
    "COP_model.fit(x, y)\n",
    "COP_model_r_sq = COP_model.score(x, y)\n",
    "print('coefficient of determination:', COP_model_r_sq)\n",
    "print('intercept:', COP_model.intercept_)\n",
    "print('slope:', COP_model.coef_)\n",
    "\n",
    "# Define COP Function\n",
    "def COP_func(Temp):\n",
    "    COP = COP_model.coef_[0] * Temp + COP_model.intercept_\n",
    "    return COP\n",
    "\n",
    "# Plot model\n",
    "x = np.arange(-7,20,1)\n",
    "y = [COP_func(a) for a in x]\n",
    "plt.plot(x,y, color = step_blue)    \n",
    "plt.title('Manufacturer Specs')"
   ]
  },
  {
   "cell_type": "code",
   "execution_count": 67,
   "metadata": {},
   "outputs": [
    {
     "name": "stderr",
     "output_type": "stream",
     "text": [
      "C:\\ProgramData\\Anaconda3\\lib\\site-packages\\ipykernel_launcher.py:8: SettingWithCopyWarning: \n",
      "A value is trying to be set on a copy of a slice from a DataFrame.\n",
      "Try using .loc[row_indexer,col_indexer] = value instead\n",
      "\n",
      "See the caveats in the documentation: http://pandas.pydata.org/pandas-docs/stable/indexing.html#indexing-view-versus-copy\n",
      "  \n"
     ]
    },
    {
     "data": {
      "text/plain": [
       "2.8923894243670563"
      ]
     },
     "execution_count": 67,
     "metadata": {},
     "output_type": "execute_result"
    }
   ],
   "source": [
    "# Calculate temperature-weighted COP for post-retrofit period\n",
    "start = datetime.datetime.strptime('10/21/2020','%m/%d/%Y')\n",
    "stop = datetime.datetime.strptime('06/20/2021','%m/%d/%Y')\n",
    "post_weather = toronto_weather.loc[(toronto_weather.index > start)&\n",
    "                                   (toronto_weather.index < stop)&\n",
    "                                   (toronto_weather.temperature < 14)&\n",
    "                                   (toronto_weather.temperature > -6)]\n",
    "post_weather['COP'] = [COP_func(x) for x in post_weather.temperature]\n",
    "temp_weighted_COP = post_weather.COP.mean()\n",
    "temp_weighted_COP"
   ]
  },
  {
   "cell_type": "code",
   "execution_count": 68,
   "metadata": {},
   "outputs": [
    {
     "data": {
      "text/plain": [
       "15.313849149996106"
      ]
     },
     "execution_count": 68,
     "metadata": {},
     "output_type": "execute_result"
    }
   ],
   "source": [
    "# Percentage reduction of COP from post-retrofit data against temperature-weighted COP from specs\n",
    "(1-COP/temp_weighted_COP)*100"
   ]
  },
  {
   "cell_type": "markdown",
   "metadata": {},
   "source": [
    "The estimate of \"actual\" COP that came out of the analysis, based on the gas savings and electrical increase, was 14% lower than what would be expected based on manufacturer specifications. This is somewhat reasonable since actual operation includes defrost and cycling - both of which will degrade efficiency. More performance degradation from these factors might have been expected."
   ]
  },
  {
   "cell_type": "markdown",
   "metadata": {},
   "source": [
    "## 6.3 Net Cost and Carbon Savings\n",
    "\n"
   ]
  },
  {
   "cell_type": "code",
   "execution_count": 69,
   "metadata": {},
   "outputs": [
    {
     "data": {
      "text/plain": [
       "1476.7569271742464"
      ]
     },
     "execution_count": 69,
     "metadata": {},
     "output_type": "execute_result"
    }
   ],
   "source": [
    "# Net carbon savings\n",
    "carbon_savings = hybrid_gas_sav * EF_gas - elec_increase_corr * EF_elec\n",
    "carbon_savings"
   ]
  },
  {
   "cell_type": "code",
   "execution_count": 70,
   "metadata": {},
   "outputs": [
    {
     "data": {
      "text/plain": [
       "-38.51802052896767"
      ]
     },
     "execution_count": 70,
     "metadata": {},
     "output_type": "execute_result"
    }
   ],
   "source": [
    "# Net cost savings from hybrid system\n",
    "hybrid_gas_sav * gas_rate - elec_increase_corr * elec_rate"
   ]
  },
  {
   "cell_type": "code",
   "execution_count": 71,
   "metadata": {},
   "outputs": [
    {
     "data": {
      "text/plain": [
       "51.87197947103232"
      ]
     },
     "execution_count": 71,
     "metadata": {},
     "output_type": "execute_result"
    }
   ],
   "source": [
    "# Overall net cost savings\n",
    "net_cost_savings = gas_savings * gas_rate - elec_increase_corr * elec_rate\n",
    "net_cost_savings"
   ]
  },
  {
   "cell_type": "code",
   "execution_count": 72,
   "metadata": {},
   "outputs": [],
   "source": [
    "# Create lists for plot\n",
    "baseline = [tot_gas_post_baseline*gas_rate,tot_elec_baseline_corr*elec_rate]\n",
    "postretrofit = [tot_gas_post*gas_rate,tot_elec_post*elec_rate]\n",
    "reduction = [net_cost_savings]"
   ]
  },
  {
   "cell_type": "code",
   "execution_count": 73,
   "metadata": {},
   "outputs": [
    {
     "data": {
      "text/plain": [
       "<matplotlib.legend.Legend at 0x207cfda2048>"
      ]
     },
     "execution_count": 73,
     "metadata": {},
     "output_type": "execute_result"
    },
    {
     "data": {
      "image/png": "[encoded data removed]",
      "text/plain": [
       "<Figure size 504x360 with 1 Axes>"
      ]
     },
     "metadata": {
      "needs_background": "light"
     },
     "output_type": "display_data"
    }
   ],
   "source": [
    "# Plot \n",
    "fig, ax = plt.subplots(figsize = (7,5))\n",
    "ax.bar([1,2], baseline, width = -0.4, align = 'edge', color = step_blue, label = 'Baseline')\n",
    "ax.bar([1,2], postretrofit, width = 0.4, align = 'edge', color = step_gold, label = 'Post-retrofit')\n",
    "ax.bar([3],reduction, color = 'grey', width = 0.4)\n",
    "ax.set_xticks([1,2,3])\n",
    "ax.set_xticklabels(['Natural Gas','Electricity', 'Reduction'])\n",
    "ax.set_ylabel('Utility Costs [$]')\n",
    "ax.legend()"
   ]
  },
  {
   "cell_type": "markdown",
   "metadata": {},
   "source": [
    "Note this plot neglects the fixed monthly customer charge for holding accounts with the utility."
   ]
  },
  {
   "cell_type": "markdown",
   "metadata": {},
   "source": [
    "## 7 Annual Utility Costs to 2030\n",
    "\n",
    "At the end of 2020 the federal government announced a new carbon pricing schedule in their plan titled \"A Healthy Environment and A Healthy Economy.\" Starting in 2023, the federal price on carbon will increase at 15$\\$$ per year to reach $\\$$170 by 2030. This has significant implications for dual fuel heat pump systems. This is outlined in the dataframe below. It ignores other fluctuations in the cost of natural gas and simply adds additional charges onto the current rate."
   ]
  },
  {
   "cell_type": "code",
   "execution_count": 74,
   "metadata": {},
   "outputs": [
    {
     "data": {
      "text/html": [
       "<div>\n",
       "<style scoped>\n",
       "    .dataframe tbody tr th:only-of-type {\n",
       "        vertical-align: middle;\n",
       "    }\n",
       "\n",
       "    .dataframe tbody tr th {\n",
       "        vertical-align: top;\n",
       "    }\n",
       "\n",
       "    .dataframe thead th {\n",
       "        text-align: right;\n",
       "    }\n",
       "</style>\n",
       "<table border=\"1\" class=\"dataframe\">\n",
       "  <thead>\n",
       "    <tr style=\"text-align: right;\">\n",
       "      <th></th>\n",
       "      <th>Year</th>\n",
       "      <th>Carbon Tax ($/tonne)</th>\n",
       "      <th>Carbon Charge Natural Gas ($/m3)</th>\n",
       "    </tr>\n",
       "  </thead>\n",
       "  <tbody>\n",
       "    <tr>\n",
       "      <th>0</th>\n",
       "      <td>2021</td>\n",
       "      <td>40</td>\n",
       "      <td>0.078300</td>\n",
       "    </tr>\n",
       "    <tr>\n",
       "      <th>1</th>\n",
       "      <td>2022</td>\n",
       "      <td>50</td>\n",
       "      <td>0.097875</td>\n",
       "    </tr>\n",
       "    <tr>\n",
       "      <th>2</th>\n",
       "      <td>2023</td>\n",
       "      <td>65</td>\n",
       "      <td>0.127238</td>\n",
       "    </tr>\n",
       "    <tr>\n",
       "      <th>3</th>\n",
       "      <td>2024</td>\n",
       "      <td>80</td>\n",
       "      <td>0.156600</td>\n",
       "    </tr>\n",
       "    <tr>\n",
       "      <th>4</th>\n",
       "      <td>2025</td>\n",
       "      <td>95</td>\n",
       "      <td>0.185963</td>\n",
       "    </tr>\n",
       "    <tr>\n",
       "      <th>5</th>\n",
       "      <td>2026</td>\n",
       "      <td>110</td>\n",
       "      <td>0.215325</td>\n",
       "    </tr>\n",
       "    <tr>\n",
       "      <th>6</th>\n",
       "      <td>2027</td>\n",
       "      <td>125</td>\n",
       "      <td>0.244688</td>\n",
       "    </tr>\n",
       "    <tr>\n",
       "      <th>7</th>\n",
       "      <td>2028</td>\n",
       "      <td>140</td>\n",
       "      <td>0.274050</td>\n",
       "    </tr>\n",
       "    <tr>\n",
       "      <th>8</th>\n",
       "      <td>2029</td>\n",
       "      <td>155</td>\n",
       "      <td>0.303412</td>\n",
       "    </tr>\n",
       "    <tr>\n",
       "      <th>9</th>\n",
       "      <td>2030</td>\n",
       "      <td>170</td>\n",
       "      <td>0.332775</td>\n",
       "    </tr>\n",
       "  </tbody>\n",
       "</table>\n",
       "</div>"
      ],
      "text/plain": [
       "   Year  Carbon Tax ($/tonne)  Carbon Charge Natural Gas ($/m3)\n",
       "0  2021                    40                          0.078300\n",
       "1  2022                    50                          0.097875\n",
       "2  2023                    65                          0.127238\n",
       "3  2024                    80                          0.156600\n",
       "4  2025                    95                          0.185963\n",
       "5  2026                   110                          0.215325\n",
       "6  2027                   125                          0.244688\n",
       "7  2028                   140                          0.274050\n",
       "8  2029                   155                          0.303412\n",
       "9  2030                   170                          0.332775"
      ]
     },
     "execution_count": 74,
     "metadata": {},
     "output_type": "execute_result"
    }
   ],
   "source": [
    "# Import carbon charge data\n",
    "# You can see this aligns with carbon charge data from enbridge\n",
    "# https://www.enbridgegas.com/residential/my-account/rates/federal-carbon-charge (below)\n",
    "nat_gas_rate_df = pd.read_csv(\"nat_gas_carbon_pricing.csv\")\n",
    "nat_gas_rate_df.head(10)"
   ]
  },
  {
   "cell_type": "markdown",
   "metadata": {},
   "source": [
    "![Enbridge_CC2.png](Enbridge_CC2.png)"
   ]
  },
  {
   "cell_type": "code",
   "execution_count": 75,
   "metadata": {},
   "outputs": [
    {
     "data": {
      "text/html": [
       "<div>\n",
       "<style scoped>\n",
       "    .dataframe tbody tr th:only-of-type {\n",
       "        vertical-align: middle;\n",
       "    }\n",
       "\n",
       "    .dataframe tbody tr th {\n",
       "        vertical-align: top;\n",
       "    }\n",
       "\n",
       "    .dataframe thead th {\n",
       "        text-align: right;\n",
       "    }\n",
       "</style>\n",
       "<table border=\"1\" class=\"dataframe\">\n",
       "  <thead>\n",
       "    <tr style=\"text-align: right;\">\n",
       "      <th></th>\n",
       "      <th>Year</th>\n",
       "      <th>Carbon Tax ($/tonne)</th>\n",
       "      <th>Carbon Charge Natural Gas ($/m3)</th>\n",
       "      <th>Gas_Rate</th>\n",
       "    </tr>\n",
       "  </thead>\n",
       "  <tbody>\n",
       "    <tr>\n",
       "      <th>0</th>\n",
       "      <td>2021</td>\n",
       "      <td>40</td>\n",
       "      <td>0.078300</td>\n",
       "      <td>0.393300</td>\n",
       "    </tr>\n",
       "    <tr>\n",
       "      <th>1</th>\n",
       "      <td>2022</td>\n",
       "      <td>50</td>\n",
       "      <td>0.097875</td>\n",
       "      <td>0.412875</td>\n",
       "    </tr>\n",
       "    <tr>\n",
       "      <th>2</th>\n",
       "      <td>2023</td>\n",
       "      <td>65</td>\n",
       "      <td>0.127238</td>\n",
       "      <td>0.442238</td>\n",
       "    </tr>\n",
       "    <tr>\n",
       "      <th>3</th>\n",
       "      <td>2024</td>\n",
       "      <td>80</td>\n",
       "      <td>0.156600</td>\n",
       "      <td>0.471600</td>\n",
       "    </tr>\n",
       "    <tr>\n",
       "      <th>4</th>\n",
       "      <td>2025</td>\n",
       "      <td>95</td>\n",
       "      <td>0.185963</td>\n",
       "      <td>0.500962</td>\n",
       "    </tr>\n",
       "    <tr>\n",
       "      <th>5</th>\n",
       "      <td>2026</td>\n",
       "      <td>110</td>\n",
       "      <td>0.215325</td>\n",
       "      <td>0.530325</td>\n",
       "    </tr>\n",
       "    <tr>\n",
       "      <th>6</th>\n",
       "      <td>2027</td>\n",
       "      <td>125</td>\n",
       "      <td>0.244688</td>\n",
       "      <td>0.559688</td>\n",
       "    </tr>\n",
       "    <tr>\n",
       "      <th>7</th>\n",
       "      <td>2028</td>\n",
       "      <td>140</td>\n",
       "      <td>0.274050</td>\n",
       "      <td>0.589050</td>\n",
       "    </tr>\n",
       "    <tr>\n",
       "      <th>8</th>\n",
       "      <td>2029</td>\n",
       "      <td>155</td>\n",
       "      <td>0.303412</td>\n",
       "      <td>0.618413</td>\n",
       "    </tr>\n",
       "    <tr>\n",
       "      <th>9</th>\n",
       "      <td>2030</td>\n",
       "      <td>170</td>\n",
       "      <td>0.332775</td>\n",
       "      <td>0.647775</td>\n",
       "    </tr>\n",
       "  </tbody>\n",
       "</table>\n",
       "</div>"
      ],
      "text/plain": [
       "   Year  Carbon Tax ($/tonne)  Carbon Charge Natural Gas ($/m3)  Gas_Rate\n",
       "0  2021                    40                          0.078300  0.393300\n",
       "1  2022                    50                          0.097875  0.412875\n",
       "2  2023                    65                          0.127238  0.442238\n",
       "3  2024                    80                          0.156600  0.471600\n",
       "4  2025                    95                          0.185963  0.500962\n",
       "5  2026                   110                          0.215325  0.530325\n",
       "6  2027                   125                          0.244688  0.559688\n",
       "7  2028                   140                          0.274050  0.589050\n",
       "8  2029                   155                          0.303412  0.618413\n",
       "9  2030                   170                          0.332775  0.647775"
      ]
     },
     "execution_count": 75,
     "metadata": {},
     "output_type": "execute_result"
    }
   ],
   "source": [
    "# Add cost escalation due to carbon charge\n",
    "gas_rate_no_carbon_charge = gas_rate - 0.078\n",
    "nat_gas_rate_df['Gas_Rate'] = [gas_rate_no_carbon_charge + x for x in nat_gas_rate_df['Carbon Charge Natural Gas ($/m3)']]\n",
    "nat_gas_rate_df.head(10)"
   ]
  },
  {
   "cell_type": "code",
   "execution_count": 76,
   "metadata": {},
   "outputs": [
    {
     "data": {
      "text/html": [
       "<div>\n",
       "<style scoped>\n",
       "    .dataframe tbody tr th:only-of-type {\n",
       "        vertical-align: middle;\n",
       "    }\n",
       "\n",
       "    .dataframe tbody tr th {\n",
       "        vertical-align: top;\n",
       "    }\n",
       "\n",
       "    .dataframe thead th {\n",
       "        text-align: right;\n",
       "    }\n",
       "</style>\n",
       "<table border=\"1\" class=\"dataframe\">\n",
       "  <thead>\n",
       "    <tr style=\"text-align: right;\">\n",
       "      <th></th>\n",
       "      <th>Year</th>\n",
       "      <th>Carbon Tax ($/tonne)</th>\n",
       "      <th>Carbon Charge Natural Gas ($/m3)</th>\n",
       "      <th>Gas_Rate</th>\n",
       "      <th>Elec_Rate</th>\n",
       "    </tr>\n",
       "  </thead>\n",
       "  <tbody>\n",
       "    <tr>\n",
       "      <th>0</th>\n",
       "      <td>2021</td>\n",
       "      <td>40</td>\n",
       "      <td>0.078300</td>\n",
       "      <td>0.393300</td>\n",
       "      <td>0.119460</td>\n",
       "    </tr>\n",
       "    <tr>\n",
       "      <th>1</th>\n",
       "      <td>2022</td>\n",
       "      <td>50</td>\n",
       "      <td>0.097875</td>\n",
       "      <td>0.412875</td>\n",
       "      <td>0.121849</td>\n",
       "    </tr>\n",
       "    <tr>\n",
       "      <th>2</th>\n",
       "      <td>2023</td>\n",
       "      <td>65</td>\n",
       "      <td>0.127238</td>\n",
       "      <td>0.442238</td>\n",
       "      <td>0.124286</td>\n",
       "    </tr>\n",
       "    <tr>\n",
       "      <th>3</th>\n",
       "      <td>2024</td>\n",
       "      <td>80</td>\n",
       "      <td>0.156600</td>\n",
       "      <td>0.471600</td>\n",
       "      <td>0.126772</td>\n",
       "    </tr>\n",
       "    <tr>\n",
       "      <th>4</th>\n",
       "      <td>2025</td>\n",
       "      <td>95</td>\n",
       "      <td>0.185963</td>\n",
       "      <td>0.500962</td>\n",
       "      <td>0.129307</td>\n",
       "    </tr>\n",
       "    <tr>\n",
       "      <th>5</th>\n",
       "      <td>2026</td>\n",
       "      <td>110</td>\n",
       "      <td>0.215325</td>\n",
       "      <td>0.530325</td>\n",
       "      <td>0.131893</td>\n",
       "    </tr>\n",
       "    <tr>\n",
       "      <th>6</th>\n",
       "      <td>2027</td>\n",
       "      <td>125</td>\n",
       "      <td>0.244688</td>\n",
       "      <td>0.559688</td>\n",
       "      <td>0.134531</td>\n",
       "    </tr>\n",
       "    <tr>\n",
       "      <th>7</th>\n",
       "      <td>2028</td>\n",
       "      <td>140</td>\n",
       "      <td>0.274050</td>\n",
       "      <td>0.589050</td>\n",
       "      <td>0.137222</td>\n",
       "    </tr>\n",
       "    <tr>\n",
       "      <th>8</th>\n",
       "      <td>2029</td>\n",
       "      <td>155</td>\n",
       "      <td>0.303412</td>\n",
       "      <td>0.618413</td>\n",
       "      <td>0.139966</td>\n",
       "    </tr>\n",
       "    <tr>\n",
       "      <th>9</th>\n",
       "      <td>2030</td>\n",
       "      <td>170</td>\n",
       "      <td>0.332775</td>\n",
       "      <td>0.647775</td>\n",
       "      <td>0.142766</td>\n",
       "    </tr>\n",
       "  </tbody>\n",
       "</table>\n",
       "</div>"
      ],
      "text/plain": [
       "   Year  Carbon Tax ($/tonne)  Carbon Charge Natural Gas ($/m3)  Gas_Rate  \\\n",
       "0  2021                    40                          0.078300  0.393300   \n",
       "1  2022                    50                          0.097875  0.412875   \n",
       "2  2023                    65                          0.127238  0.442238   \n",
       "3  2024                    80                          0.156600  0.471600   \n",
       "4  2025                    95                          0.185963  0.500962   \n",
       "5  2026                   110                          0.215325  0.530325   \n",
       "6  2027                   125                          0.244688  0.559688   \n",
       "7  2028                   140                          0.274050  0.589050   \n",
       "8  2029                   155                          0.303412  0.618413   \n",
       "9  2030                   170                          0.332775  0.647775   \n",
       "\n",
       "   Elec_Rate  \n",
       "0   0.119460  \n",
       "1   0.121849  \n",
       "2   0.124286  \n",
       "3   0.126772  \n",
       "4   0.129307  \n",
       "5   0.131893  \n",
       "6   0.134531  \n",
       "7   0.137222  \n",
       "8   0.139966  \n",
       "9   0.142766  "
      ]
     },
     "execution_count": 76,
     "metadata": {},
     "output_type": "execute_result"
    }
   ],
   "source": [
    "# Add electricity cost escalation - \n",
    "# Assume 2% per year there has been no recent long-term energy plan to for a better estimate\n",
    "# Just add it to natural gas data frame\n",
    "nat_gas_rate_df['Elec_Rate'] = [elec_rate*(1.02)**x for x in nat_gas_rate_df.index]\n",
    "nat_gas_rate_df.head(10)"
   ]
  },
  {
   "cell_type": "code",
   "execution_count": 77,
   "metadata": {},
   "outputs": [
    {
     "data": {
      "text/html": [
       "<div>\n",
       "<style scoped>\n",
       "    .dataframe tbody tr th:only-of-type {\n",
       "        vertical-align: middle;\n",
       "    }\n",
       "\n",
       "    .dataframe tbody tr th {\n",
       "        vertical-align: top;\n",
       "    }\n",
       "\n",
       "    .dataframe thead th {\n",
       "        text-align: right;\n",
       "    }\n",
       "</style>\n",
       "<table border=\"1\" class=\"dataframe\">\n",
       "  <thead>\n",
       "    <tr style=\"text-align: right;\">\n",
       "      <th></th>\n",
       "      <th>Year</th>\n",
       "      <th>Carbon Tax ($/tonne)</th>\n",
       "      <th>Carbon Charge Natural Gas ($/m3)</th>\n",
       "      <th>Gas_Rate</th>\n",
       "      <th>Elec_Rate</th>\n",
       "      <th>Annual_Gas_Savings</th>\n",
       "      <th>Annual_Elec_Increase</th>\n",
       "      <th>Annual_Net_Cost_Change</th>\n",
       "    </tr>\n",
       "  </thead>\n",
       "  <tbody>\n",
       "    <tr>\n",
       "      <th>0</th>\n",
       "      <td>2021</td>\n",
       "      <td>40</td>\n",
       "      <td>0.078300</td>\n",
       "      <td>0.393300</td>\n",
       "      <td>0.119460</td>\n",
       "      <td>326.361294</td>\n",
       "      <td>364.630374</td>\n",
       "      <td>38.269080</td>\n",
       "    </tr>\n",
       "    <tr>\n",
       "      <th>1</th>\n",
       "      <td>2022</td>\n",
       "      <td>50</td>\n",
       "      <td>0.097875</td>\n",
       "      <td>0.412875</td>\n",
       "      <td>0.121849</td>\n",
       "      <td>342.604676</td>\n",
       "      <td>371.922981</td>\n",
       "      <td>29.318305</td>\n",
       "    </tr>\n",
       "    <tr>\n",
       "      <th>2</th>\n",
       "      <td>2023</td>\n",
       "      <td>65</td>\n",
       "      <td>0.127238</td>\n",
       "      <td>0.442238</td>\n",
       "      <td>0.124286</td>\n",
       "      <td>366.969750</td>\n",
       "      <td>379.361441</td>\n",
       "      <td>12.391691</td>\n",
       "    </tr>\n",
       "    <tr>\n",
       "      <th>3</th>\n",
       "      <td>2024</td>\n",
       "      <td>80</td>\n",
       "      <td>0.156600</td>\n",
       "      <td>0.471600</td>\n",
       "      <td>0.126772</td>\n",
       "      <td>391.334824</td>\n",
       "      <td>386.948670</td>\n",
       "      <td>-4.386154</td>\n",
       "    </tr>\n",
       "    <tr>\n",
       "      <th>4</th>\n",
       "      <td>2025</td>\n",
       "      <td>95</td>\n",
       "      <td>0.185963</td>\n",
       "      <td>0.500962</td>\n",
       "      <td>0.129307</td>\n",
       "      <td>415.699898</td>\n",
       "      <td>394.687643</td>\n",
       "      <td>-21.012255</td>\n",
       "    </tr>\n",
       "    <tr>\n",
       "      <th>5</th>\n",
       "      <td>2026</td>\n",
       "      <td>110</td>\n",
       "      <td>0.215325</td>\n",
       "      <td>0.530325</td>\n",
       "      <td>0.131893</td>\n",
       "      <td>440.064971</td>\n",
       "      <td>402.581396</td>\n",
       "      <td>-37.483575</td>\n",
       "    </tr>\n",
       "    <tr>\n",
       "      <th>6</th>\n",
       "      <td>2027</td>\n",
       "      <td>125</td>\n",
       "      <td>0.244688</td>\n",
       "      <td>0.559688</td>\n",
       "      <td>0.134531</td>\n",
       "      <td>464.430045</td>\n",
       "      <td>410.633024</td>\n",
       "      <td>-53.797021</td>\n",
       "    </tr>\n",
       "    <tr>\n",
       "      <th>7</th>\n",
       "      <td>2028</td>\n",
       "      <td>140</td>\n",
       "      <td>0.274050</td>\n",
       "      <td>0.589050</td>\n",
       "      <td>0.137222</td>\n",
       "      <td>488.795119</td>\n",
       "      <td>418.845684</td>\n",
       "      <td>-69.949434</td>\n",
       "    </tr>\n",
       "    <tr>\n",
       "      <th>8</th>\n",
       "      <td>2029</td>\n",
       "      <td>155</td>\n",
       "      <td>0.303412</td>\n",
       "      <td>0.618413</td>\n",
       "      <td>0.139966</td>\n",
       "      <td>513.160192</td>\n",
       "      <td>427.222598</td>\n",
       "      <td>-85.937594</td>\n",
       "    </tr>\n",
       "    <tr>\n",
       "      <th>9</th>\n",
       "      <td>2030</td>\n",
       "      <td>170</td>\n",
       "      <td>0.332775</td>\n",
       "      <td>0.647775</td>\n",
       "      <td>0.142766</td>\n",
       "      <td>537.525266</td>\n",
       "      <td>435.767050</td>\n",
       "      <td>-101.758216</td>\n",
       "    </tr>\n",
       "  </tbody>\n",
       "</table>\n",
       "</div>"
      ],
      "text/plain": [
       "   Year  Carbon Tax ($/tonne)  Carbon Charge Natural Gas ($/m3)  Gas_Rate  \\\n",
       "0  2021                    40                          0.078300  0.393300   \n",
       "1  2022                    50                          0.097875  0.412875   \n",
       "2  2023                    65                          0.127238  0.442238   \n",
       "3  2024                    80                          0.156600  0.471600   \n",
       "4  2025                    95                          0.185963  0.500962   \n",
       "5  2026                   110                          0.215325  0.530325   \n",
       "6  2027                   125                          0.244688  0.559688   \n",
       "7  2028                   140                          0.274050  0.589050   \n",
       "8  2029                   155                          0.303412  0.618413   \n",
       "9  2030                   170                          0.332775  0.647775   \n",
       "\n",
       "   Elec_Rate  Annual_Gas_Savings  Annual_Elec_Increase  Annual_Net_Cost_Change  \n",
       "0   0.119460          326.361294            364.630374               38.269080  \n",
       "1   0.121849          342.604676            371.922981               29.318305  \n",
       "2   0.124286          366.969750            379.361441               12.391691  \n",
       "3   0.126772          391.334824            386.948670               -4.386154  \n",
       "4   0.129307          415.699898            394.687643              -21.012255  \n",
       "5   0.131893          440.064971            402.581396              -37.483575  \n",
       "6   0.134531          464.430045            410.633024              -53.797021  \n",
       "7   0.137222          488.795119            418.845684              -69.949434  \n",
       "8   0.139966          513.160192            427.222598              -85.937594  \n",
       "9   0.142766          537.525266            435.767050             -101.758216  "
      ]
     },
     "execution_count": 77,
     "metadata": {},
     "output_type": "execute_result"
    }
   ],
   "source": [
    "# Add utility costs\n",
    "nat_gas_rate_df['Annual_Gas_Savings'] = [hybrid_gas_sav*x for x in nat_gas_rate_df.Gas_Rate]\n",
    "nat_gas_rate_df['Annual_Elec_Increase'] = [elec_increase_corr*x for x in nat_gas_rate_df.Elec_Rate]\n",
    "nat_gas_rate_df['Annual_Net_Cost_Change'] = [y - x for x,y in zip(nat_gas_rate_df.Annual_Gas_Savings,nat_gas_rate_df.Annual_Elec_Increase)]\n",
    "nat_gas_rate_df.head(10)"
   ]
  },
  {
   "cell_type": "code",
   "execution_count": 78,
   "metadata": {},
   "outputs": [
    {
     "data": {
      "text/plain": [
       "-294.34517501973863"
      ]
     },
     "execution_count": 78,
     "metadata": {},
     "output_type": "execute_result"
    }
   ],
   "source": [
    "# Total net cost to 2030\n",
    "nat_gas_rate_df.Annual_Net_Cost_Change.sum()"
   ]
  },
  {
   "cell_type": "code",
   "execution_count": 79,
   "metadata": {},
   "outputs": [
    {
     "data": {
      "text/plain": [
       "Text(0, 0.5, 'Net Annual Utility Cost Change [$]')"
      ]
     },
     "execution_count": 79,
     "metadata": {},
     "output_type": "execute_result"
    },
    {
     "data": {
      "image/png": "[encoded data removed]",
      "text/plain": [
       "<Figure size 504x360 with 1 Axes>"
      ]
     },
     "metadata": {
      "needs_background": "light"
     },
     "output_type": "display_data"
    }
   ],
   "source": [
    "# Visualize\n",
    "plt.figure(figsize=(7,5))\n",
    "plt.bar(nat_gas_rate_df.Year,nat_gas_rate_df.Annual_Net_Cost_Change,color=step_blue, align = 'center', width = 0.4)\n",
    "plt.grid(ls='--')\n",
    "plt.ylabel('Net Annual Utility Cost Change [$]')"
   ]
  },
  {
   "cell_type": "markdown",
   "metadata": {},
   "source": [
    "Note the similarity between the predictions of the above plot with the analysis presented in Figure 12 in this STEP report which theoretically evaluated the utility cost savings to 2030. https://sustainabletechnologies.ca/app/uploads/2021/05/DualFuelAnalysis052021.pdf"
   ]
  },
  {
   "cell_type": "code",
   "execution_count": null,
   "metadata": {},
   "outputs": [],
   "source": []
  }
 ],
 "metadata": {
  "kernelspec": {
   "display_name": "Python 3",
   "language": "python",
   "name": "python3"
  },
  "language_info": {
   "codemirror_mode": {
    "name": "ipython",
    "version": 3
   },
   "file_extension": ".py",
   "mimetype": "text/x-python",
   "name": "python",
   "nbconvert_exporter": "python",
   "pygments_lexer": "ipython3",
   "version": "3.7.3"
  }
 },
 "nbformat": 4,
 "nbformat_minor": 2
}
